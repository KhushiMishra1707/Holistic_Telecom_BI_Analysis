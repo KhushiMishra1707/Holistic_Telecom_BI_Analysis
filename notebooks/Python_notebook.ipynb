{
 "cells": [
  {
   "cell_type": "code",
   "execution_count": 1,
   "id": "90e17635-b5a8-4649-8282-956cb6402323",
   "metadata": {
    "scrolled": true
   },
   "outputs": [
    {
     "data": {
      "text/plain": [
       "<bound method NDFrame.head of       customerID  gender  SeniorCitizen Partner Dependents  tenure  \\\n",
       "0     7590-VHVEG  Female              0     Yes         No       1   \n",
       "1     5575-GNVDE    Male              0      No         No      34   \n",
       "2     3668-QPYBK    Male              0      No         No       2   \n",
       "3     7795-CFOCW    Male              0      No         No      45   \n",
       "4     9237-HQITU  Female              0      No         No       2   \n",
       "...          ...     ...            ...     ...        ...     ...   \n",
       "7038  6840-RESVB    Male              0     Yes        Yes      24   \n",
       "7039  2234-XADUH  Female              0     Yes        Yes      72   \n",
       "7040  4801-JZAZL  Female              0     Yes        Yes      11   \n",
       "7041  8361-LTMKD    Male              1     Yes         No       4   \n",
       "7042  3186-AJIEK    Male              0      No         No      66   \n",
       "\n",
       "     PhoneService     MultipleLines InternetService OnlineSecurity  ...  \\\n",
       "0              No  No phone service             DSL             No  ...   \n",
       "1             Yes                No             DSL            Yes  ...   \n",
       "2             Yes                No             DSL            Yes  ...   \n",
       "3              No  No phone service             DSL            Yes  ...   \n",
       "4             Yes                No     Fiber optic             No  ...   \n",
       "...           ...               ...             ...            ...  ...   \n",
       "7038          Yes               Yes             DSL            Yes  ...   \n",
       "7039          Yes               Yes     Fiber optic             No  ...   \n",
       "7040           No  No phone service             DSL            Yes  ...   \n",
       "7041          Yes               Yes     Fiber optic             No  ...   \n",
       "7042          Yes                No     Fiber optic            Yes  ...   \n",
       "\n",
       "     DeviceProtection TechSupport StreamingTV StreamingMovies        Contract  \\\n",
       "0                  No          No          No              No  Month-to-month   \n",
       "1                 Yes          No          No              No        One year   \n",
       "2                  No          No          No              No  Month-to-month   \n",
       "3                 Yes         Yes          No              No        One year   \n",
       "4                  No          No          No              No  Month-to-month   \n",
       "...               ...         ...         ...             ...             ...   \n",
       "7038              Yes         Yes         Yes             Yes        One year   \n",
       "7039              Yes          No         Yes             Yes        One year   \n",
       "7040               No          No          No              No  Month-to-month   \n",
       "7041               No          No          No              No  Month-to-month   \n",
       "7042              Yes         Yes         Yes             Yes        Two year   \n",
       "\n",
       "     PaperlessBilling              PaymentMethod MonthlyCharges  TotalCharges  \\\n",
       "0                 Yes           Electronic check          29.85         29.85   \n",
       "1                  No               Mailed check          56.95        1889.5   \n",
       "2                 Yes               Mailed check          53.85        108.15   \n",
       "3                  No  Bank transfer (automatic)          42.30       1840.75   \n",
       "4                 Yes           Electronic check          70.70        151.65   \n",
       "...               ...                        ...            ...           ...   \n",
       "7038              Yes               Mailed check          84.80        1990.5   \n",
       "7039              Yes    Credit card (automatic)         103.20        7362.9   \n",
       "7040              Yes           Electronic check          29.60        346.45   \n",
       "7041              Yes               Mailed check          74.40         306.6   \n",
       "7042              Yes  Bank transfer (automatic)         105.65        6844.5   \n",
       "\n",
       "     Churn  \n",
       "0       No  \n",
       "1       No  \n",
       "2      Yes  \n",
       "3       No  \n",
       "4      Yes  \n",
       "...    ...  \n",
       "7038    No  \n",
       "7039    No  \n",
       "7040    No  \n",
       "7041   Yes  \n",
       "7042    No  \n",
       "\n",
       "[7043 rows x 21 columns]>"
      ]
     },
     "execution_count": 1,
     "metadata": {},
     "output_type": "execute_result"
    }
   ],
   "source": [
    "import pandas as pd\n",
    "df = pd.read_csv(\"C:/Users/Hp/OneDrive/Documents/10th sem project full/datasets for the project/Customer Churn Data (To predict which customers will leave).csv\")\n",
    "df.head()"
   ]
  },
  {
   "cell_type": "code",
   "execution_count": 2,
   "id": "6ad2a136-472d-48ba-9452-30fead9d82f5",
   "metadata": {},
   "outputs": [
    {
     "data": {
      "text/plain": [
       "customerID          0\n",
       "gender              0\n",
       "SeniorCitizen       0\n",
       "Partner             0\n",
       "Dependents          0\n",
       "tenure              0\n",
       "PhoneService        0\n",
       "MultipleLines       0\n",
       "InternetService     0\n",
       "OnlineSecurity      0\n",
       "OnlineBackup        0\n",
       "DeviceProtection    0\n",
       "TechSupport         0\n",
       "StreamingTV         0\n",
       "StreamingMovies     0\n",
       "Contract            0\n",
       "PaperlessBilling    0\n",
       "PaymentMethod       0\n",
       "MonthlyCharges      0\n",
       "TotalCharges        0\n",
       "Churn               0\n",
       "dtype: int64"
      ]
     },
     "execution_count": 2,
     "metadata": {},
     "output_type": "execute_result"
    }
   ],
   "source": [
    "df.isnull().sum()"
   ]
  },
  {
   "cell_type": "code",
   "execution_count": 3,
   "id": "a649b8a0-bd0c-4e4d-9445-68c23cabbf00",
   "metadata": {},
   "outputs": [],
   "source": [
    "df.drop_duplicates(inplace = True)"
   ]
  },
  {
   "cell_type": "code",
   "execution_count": 4,
   "id": "7c5111c1-ecc4-4f6f-b368-1aa71c627d49",
   "metadata": {},
   "outputs": [
    {
     "data": {
      "text/plain": [
       "customerID           object\n",
       "gender               object\n",
       "SeniorCitizen         int64\n",
       "Partner              object\n",
       "Dependents           object\n",
       "tenure                int64\n",
       "PhoneService         object\n",
       "MultipleLines        object\n",
       "InternetService      object\n",
       "OnlineSecurity       object\n",
       "OnlineBackup         object\n",
       "DeviceProtection     object\n",
       "TechSupport          object\n",
       "StreamingTV          object\n",
       "StreamingMovies      object\n",
       "Contract             object\n",
       "PaperlessBilling     object\n",
       "PaymentMethod        object\n",
       "MonthlyCharges      float64\n",
       "TotalCharges         object\n",
       "Churn                object\n",
       "dtype: object"
      ]
     },
     "execution_count": 4,
     "metadata": {},
     "output_type": "execute_result"
    }
   ],
   "source": [
    "df.dtypes"
   ]
  },
  {
   "cell_type": "code",
   "execution_count": 5,
   "id": "aec64161-fb47-470b-a8a3-60ba891b31ad",
   "metadata": {},
   "outputs": [],
   "source": [
    "df[\"TotalCharges\"] = pd.to_numeric(df[\"TotalCharges\"], errors=\"coerce\")"
   ]
  },
  {
   "cell_type": "code",
   "execution_count": 6,
   "id": "5efd2576-940c-4cf3-bd92-b7c8fe8c9fbf",
   "metadata": {},
   "outputs": [
    {
     "data": {
      "text/plain": [
       "customerID           object\n",
       "gender               object\n",
       "SeniorCitizen         int64\n",
       "Partner              object\n",
       "Dependents           object\n",
       "tenure                int64\n",
       "PhoneService         object\n",
       "MultipleLines        object\n",
       "InternetService      object\n",
       "OnlineSecurity       object\n",
       "OnlineBackup         object\n",
       "DeviceProtection     object\n",
       "TechSupport          object\n",
       "StreamingTV          object\n",
       "StreamingMovies      object\n",
       "Contract             object\n",
       "PaperlessBilling     object\n",
       "PaymentMethod        object\n",
       "MonthlyCharges      float64\n",
       "TotalCharges        float64\n",
       "Churn                object\n",
       "dtype: object"
      ]
     },
     "execution_count": 6,
     "metadata": {},
     "output_type": "execute_result"
    }
   ],
   "source": [
    "df.dtypes"
   ]
  },
  {
   "cell_type": "code",
   "execution_count": 7,
   "id": "96bef958-0eb2-4ba8-8062-320f36c594cd",
   "metadata": {},
   "outputs": [
    {
     "data": {
      "text/html": [
       "<div>\n",
       "<style scoped>\n",
       "    .dataframe tbody tr th:only-of-type {\n",
       "        vertical-align: middle;\n",
       "    }\n",
       "\n",
       "    .dataframe tbody tr th {\n",
       "        vertical-align: top;\n",
       "    }\n",
       "\n",
       "    .dataframe thead th {\n",
       "        text-align: right;\n",
       "    }\n",
       "</style>\n",
       "<table border=\"1\" class=\"dataframe\">\n",
       "  <thead>\n",
       "    <tr style=\"text-align: right;\">\n",
       "      <th></th>\n",
       "      <th>SeniorCitizen</th>\n",
       "      <th>tenure</th>\n",
       "      <th>MonthlyCharges</th>\n",
       "      <th>TotalCharges</th>\n",
       "    </tr>\n",
       "  </thead>\n",
       "  <tbody>\n",
       "    <tr>\n",
       "      <th>count</th>\n",
       "      <td>7043.000000</td>\n",
       "      <td>7043.000000</td>\n",
       "      <td>7043.000000</td>\n",
       "      <td>7032.000000</td>\n",
       "    </tr>\n",
       "    <tr>\n",
       "      <th>mean</th>\n",
       "      <td>0.162147</td>\n",
       "      <td>32.371149</td>\n",
       "      <td>64.761692</td>\n",
       "      <td>2283.300441</td>\n",
       "    </tr>\n",
       "    <tr>\n",
       "      <th>std</th>\n",
       "      <td>0.368612</td>\n",
       "      <td>24.559481</td>\n",
       "      <td>30.090047</td>\n",
       "      <td>2266.771362</td>\n",
       "    </tr>\n",
       "    <tr>\n",
       "      <th>min</th>\n",
       "      <td>0.000000</td>\n",
       "      <td>0.000000</td>\n",
       "      <td>18.250000</td>\n",
       "      <td>18.800000</td>\n",
       "    </tr>\n",
       "    <tr>\n",
       "      <th>25%</th>\n",
       "      <td>0.000000</td>\n",
       "      <td>9.000000</td>\n",
       "      <td>35.500000</td>\n",
       "      <td>401.450000</td>\n",
       "    </tr>\n",
       "    <tr>\n",
       "      <th>50%</th>\n",
       "      <td>0.000000</td>\n",
       "      <td>29.000000</td>\n",
       "      <td>70.350000</td>\n",
       "      <td>1397.475000</td>\n",
       "    </tr>\n",
       "    <tr>\n",
       "      <th>75%</th>\n",
       "      <td>0.000000</td>\n",
       "      <td>55.000000</td>\n",
       "      <td>89.850000</td>\n",
       "      <td>3794.737500</td>\n",
       "    </tr>\n",
       "    <tr>\n",
       "      <th>max</th>\n",
       "      <td>1.000000</td>\n",
       "      <td>72.000000</td>\n",
       "      <td>118.750000</td>\n",
       "      <td>8684.800000</td>\n",
       "    </tr>\n",
       "  </tbody>\n",
       "</table>\n",
       "</div>"
      ],
      "text/plain": [
       "       SeniorCitizen       tenure  MonthlyCharges  TotalCharges\n",
       "count    7043.000000  7043.000000     7043.000000   7032.000000\n",
       "mean        0.162147    32.371149       64.761692   2283.300441\n",
       "std         0.368612    24.559481       30.090047   2266.771362\n",
       "min         0.000000     0.000000       18.250000     18.800000\n",
       "25%         0.000000     9.000000       35.500000    401.450000\n",
       "50%         0.000000    29.000000       70.350000   1397.475000\n",
       "75%         0.000000    55.000000       89.850000   3794.737500\n",
       "max         1.000000    72.000000      118.750000   8684.800000"
      ]
     },
     "execution_count": 7,
     "metadata": {},
     "output_type": "execute_result"
    }
   ],
   "source": [
    "df.describe()"
   ]
  },
  {
   "cell_type": "code",
   "execution_count": 10,
   "id": "31da9150-faee-4748-b1d0-7a2d213f6865",
   "metadata": {},
   "outputs": [
    {
     "data": {
      "text/plain": [
       "customerID          object\n",
       "tenure               int64\n",
       "InternetService     object\n",
       "OnlineSecurity      object\n",
       "TechSupport         object\n",
       "Contract            object\n",
       "PaymentMethod       object\n",
       "MonthlyCharges     float64\n",
       "TotalCharges       float64\n",
       "Churn               object\n",
       "dtype: object"
      ]
     },
     "execution_count": 10,
     "metadata": {},
     "output_type": "execute_result"
    }
   ],
   "source": [
    "df.dtypes"
   ]
  },
  {
   "cell_type": "code",
   "execution_count": null,
   "id": "bf2a9564-8c2c-4a30-9244-5d741eee9a52",
   "metadata": {},
   "outputs": [],
   "source": [
    "df = df.drop(columns=[\"gender\", \"SeniorCitizen\", \"Partner\", \"Dependents\", \"PhoneService\", \"MultipleLines\", \"OnlineBackup\", \"DeviceProtection\", \"StreamingTV\", \"StreamingMovies\", \"PaperlessBilling\"])"
   ]
  },
  {
   "cell_type": "code",
   "execution_count": 11,
   "id": "bb16858d-9f40-40bf-9585-ad9331b16246",
   "metadata": {},
   "outputs": [
    {
     "data": {
      "text/plain": [
       "customerID          object\n",
       "tenure               int64\n",
       "InternetService     object\n",
       "OnlineSecurity      object\n",
       "TechSupport         object\n",
       "Contract            object\n",
       "PaymentMethod       object\n",
       "MonthlyCharges     float64\n",
       "TotalCharges       float64\n",
       "Churn               object\n",
       "dtype: object"
      ]
     },
     "execution_count": 11,
     "metadata": {},
     "output_type": "execute_result"
    }
   ],
   "source": [
    "df.dtypes"
   ]
  },
  {
   "cell_type": "code",
   "execution_count": 12,
   "id": "754cd2a6-29b0-4993-bf6a-a5de25830326",
   "metadata": {},
   "outputs": [],
   "source": [
    "df.to_csv(\"customer_churn_cleaned.csv\", index=False)"
   ]
  },
  {
   "cell_type": "code",
   "execution_count": 14,
   "id": "7b4cfabc-a049-40ba-8094-f744f6a2e907",
   "metadata": {},
   "outputs": [
    {
     "name": "stdout",
     "output_type": "stream",
     "text": [
      "   customerID  tenure InternetService OnlineSecurity TechSupport  \\\n",
      "0  7590-VHVEG       1             DSL             No          No   \n",
      "1  5575-GNVDE      34             DSL            Yes          No   \n",
      "2  3668-QPYBK       2             DSL            Yes          No   \n",
      "3  7795-CFOCW      45             DSL            Yes         Yes   \n",
      "4  9237-HQITU       2     Fiber optic             No          No   \n",
      "\n",
      "         Contract              PaymentMethod  MonthlyCharges  TotalCharges  \\\n",
      "0  Month-to-month           Electronic check           29.85         29.85   \n",
      "1        One year               Mailed check           56.95       1889.50   \n",
      "2  Month-to-month               Mailed check           53.85        108.15   \n",
      "3        One year  Bank transfer (automatic)           42.30       1840.75   \n",
      "4  Month-to-month           Electronic check           70.70        151.65   \n",
      "\n",
      "  Churn  \n",
      "0    No  \n",
      "1    No  \n",
      "2   Yes  \n",
      "3    No  \n",
      "4   Yes  \n"
     ]
    }
   ],
   "source": [
    "df_new = pd.read_csv(\"customer_churn_cleaned.csv\")\n",
    "print(df_new.head())"
   ]
  },
  {
   "cell_type": "code",
   "execution_count": 15,
   "id": "f3cc9c08-e805-43a9-9ef8-39f97b76fed2",
   "metadata": {},
   "outputs": [
    {
     "name": "stdout",
     "output_type": "stream",
     "text": [
      "   customerID  tenure InternetService OnlineSecurity TechSupport  \\\n",
      "0  7590-VHVEG       1             DSL             No          No   \n",
      "1  5575-GNVDE      34             DSL            Yes          No   \n",
      "2  3668-QPYBK       2             DSL            Yes          No   \n",
      "3  7795-CFOCW      45             DSL            Yes         Yes   \n",
      "4  9237-HQITU       2     Fiber optic             No          No   \n",
      "\n",
      "         Contract              PaymentMethod  MonthlyCharges  TotalCharges  \\\n",
      "0  Month-to-month           Electronic check           29.85         29.85   \n",
      "1        One year               Mailed check           56.95       1889.50   \n",
      "2  Month-to-month               Mailed check           53.85        108.15   \n",
      "3        One year  Bank transfer (automatic)           42.30       1840.75   \n",
      "4  Month-to-month           Electronic check           70.70        151.65   \n",
      "\n",
      "  Churn  \n",
      "0    No  \n",
      "1    No  \n",
      "2   Yes  \n",
      "3    No  \n",
      "4   Yes  \n"
     ]
    }
   ],
   "source": [
    "print(df_new.head())"
   ]
  },
  {
   "cell_type": "code",
   "execution_count": 4,
   "id": "3b455f3f-bcd2-4d5b-889a-534fbfcaa7f3",
   "metadata": {},
   "outputs": [
    {
     "data": {
      "text/html": [
       "<div>\n",
       "<style scoped>\n",
       "    .dataframe tbody tr th:only-of-type {\n",
       "        vertical-align: middle;\n",
       "    }\n",
       "\n",
       "    .dataframe tbody tr th {\n",
       "        vertical-align: top;\n",
       "    }\n",
       "\n",
       "    .dataframe thead th {\n",
       "        text-align: right;\n",
       "    }\n",
       "</style>\n",
       "<table border=\"1\" class=\"dataframe\">\n",
       "  <thead>\n",
       "    <tr style=\"text-align: right;\">\n",
       "      <th></th>\n",
       "      <th>CustomerID</th>\n",
       "      <th>Genre</th>\n",
       "      <th>Age</th>\n",
       "      <th>Annual Income (k$)</th>\n",
       "      <th>Spending Score (1-100)</th>\n",
       "    </tr>\n",
       "  </thead>\n",
       "  <tbody>\n",
       "    <tr>\n",
       "      <th>0</th>\n",
       "      <td>1</td>\n",
       "      <td>Male</td>\n",
       "      <td>19</td>\n",
       "      <td>15</td>\n",
       "      <td>39</td>\n",
       "    </tr>\n",
       "    <tr>\n",
       "      <th>1</th>\n",
       "      <td>2</td>\n",
       "      <td>Male</td>\n",
       "      <td>21</td>\n",
       "      <td>15</td>\n",
       "      <td>81</td>\n",
       "    </tr>\n",
       "    <tr>\n",
       "      <th>2</th>\n",
       "      <td>3</td>\n",
       "      <td>Female</td>\n",
       "      <td>20</td>\n",
       "      <td>16</td>\n",
       "      <td>6</td>\n",
       "    </tr>\n",
       "    <tr>\n",
       "      <th>3</th>\n",
       "      <td>4</td>\n",
       "      <td>Female</td>\n",
       "      <td>23</td>\n",
       "      <td>16</td>\n",
       "      <td>77</td>\n",
       "    </tr>\n",
       "    <tr>\n",
       "      <th>4</th>\n",
       "      <td>5</td>\n",
       "      <td>Female</td>\n",
       "      <td>31</td>\n",
       "      <td>17</td>\n",
       "      <td>40</td>\n",
       "    </tr>\n",
       "  </tbody>\n",
       "</table>\n",
       "</div>"
      ],
      "text/plain": [
       "   CustomerID   Genre  Age  Annual Income (k$)  Spending Score (1-100)\n",
       "0           1    Male   19                  15                      39\n",
       "1           2    Male   21                  15                      81\n",
       "2           3  Female   20                  16                       6\n",
       "3           4  Female   23                  16                      77\n",
       "4           5  Female   31                  17                      40"
      ]
     },
     "execution_count": 4,
     "metadata": {},
     "output_type": "execute_result"
    }
   ],
   "source": [
    "import pandas as pd\n",
    "df1 = pd.read_csv(\"C:/Users/Hp/OneDrive/Documents/10th sem project full/datasets for the project/Customer segmentation data(to group customers for targeted marketing).csv\")\n",
    "df1.head()                  "
   ]
  },
  {
   "cell_type": "code",
   "execution_count": 5,
   "id": "0f1900f8-7e77-4913-be0c-e1832d3cb624",
   "metadata": {},
   "outputs": [
    {
     "data": {
      "text/plain": [
       "CustomerID                0\n",
       "Genre                     0\n",
       "Age                       0\n",
       "Annual Income (k$)        0\n",
       "Spending Score (1-100)    0\n",
       "dtype: int64"
      ]
     },
     "execution_count": 5,
     "metadata": {},
     "output_type": "execute_result"
    }
   ],
   "source": [
    "df1.isnull().sum()"
   ]
  },
  {
   "cell_type": "code",
   "execution_count": 6,
   "id": "7338cd9f-015a-4cfe-837c-52e98c1c91ba",
   "metadata": {},
   "outputs": [],
   "source": [
    "df1.drop_duplicates(inplace=True)"
   ]
  },
  {
   "cell_type": "code",
   "execution_count": 7,
   "id": "dd445165-59b0-42c0-97b7-2ee7bcf9eb41",
   "metadata": {},
   "outputs": [
    {
     "data": {
      "text/plain": [
       "CustomerID                 int64\n",
       "Genre                     object\n",
       "Age                        int64\n",
       "Annual Income (k$)         int64\n",
       "Spending Score (1-100)     int64\n",
       "dtype: object"
      ]
     },
     "execution_count": 7,
     "metadata": {},
     "output_type": "execute_result"
    }
   ],
   "source": [
    "df1.dtypes"
   ]
  },
  {
   "cell_type": "code",
   "execution_count": 9,
   "id": "6ed1b6ae-6296-4ba2-93f6-a10437cf69f1",
   "metadata": {},
   "outputs": [
    {
     "data": {
      "text/html": [
       "<div>\n",
       "<style scoped>\n",
       "    .dataframe tbody tr th:only-of-type {\n",
       "        vertical-align: middle;\n",
       "    }\n",
       "\n",
       "    .dataframe tbody tr th {\n",
       "        vertical-align: top;\n",
       "    }\n",
       "\n",
       "    .dataframe thead th {\n",
       "        text-align: right;\n",
       "    }\n",
       "</style>\n",
       "<table border=\"1\" class=\"dataframe\">\n",
       "  <thead>\n",
       "    <tr style=\"text-align: right;\">\n",
       "      <th></th>\n",
       "      <th>CustomerID</th>\n",
       "      <th>Age</th>\n",
       "      <th>Annual Income (k$)</th>\n",
       "      <th>Spending Score (1-100)</th>\n",
       "    </tr>\n",
       "  </thead>\n",
       "  <tbody>\n",
       "    <tr>\n",
       "      <th>count</th>\n",
       "      <td>200.000000</td>\n",
       "      <td>200.000000</td>\n",
       "      <td>200.000000</td>\n",
       "      <td>200.000000</td>\n",
       "    </tr>\n",
       "    <tr>\n",
       "      <th>mean</th>\n",
       "      <td>100.500000</td>\n",
       "      <td>38.850000</td>\n",
       "      <td>60.560000</td>\n",
       "      <td>50.200000</td>\n",
       "    </tr>\n",
       "    <tr>\n",
       "      <th>std</th>\n",
       "      <td>57.879185</td>\n",
       "      <td>13.969007</td>\n",
       "      <td>26.264721</td>\n",
       "      <td>25.823522</td>\n",
       "    </tr>\n",
       "    <tr>\n",
       "      <th>min</th>\n",
       "      <td>1.000000</td>\n",
       "      <td>18.000000</td>\n",
       "      <td>15.000000</td>\n",
       "      <td>1.000000</td>\n",
       "    </tr>\n",
       "    <tr>\n",
       "      <th>25%</th>\n",
       "      <td>50.750000</td>\n",
       "      <td>28.750000</td>\n",
       "      <td>41.500000</td>\n",
       "      <td>34.750000</td>\n",
       "    </tr>\n",
       "    <tr>\n",
       "      <th>50%</th>\n",
       "      <td>100.500000</td>\n",
       "      <td>36.000000</td>\n",
       "      <td>61.500000</td>\n",
       "      <td>50.000000</td>\n",
       "    </tr>\n",
       "    <tr>\n",
       "      <th>75%</th>\n",
       "      <td>150.250000</td>\n",
       "      <td>49.000000</td>\n",
       "      <td>78.000000</td>\n",
       "      <td>73.000000</td>\n",
       "    </tr>\n",
       "    <tr>\n",
       "      <th>max</th>\n",
       "      <td>200.000000</td>\n",
       "      <td>70.000000</td>\n",
       "      <td>137.000000</td>\n",
       "      <td>99.000000</td>\n",
       "    </tr>\n",
       "  </tbody>\n",
       "</table>\n",
       "</div>"
      ],
      "text/plain": [
       "       CustomerID         Age  Annual Income (k$)  Spending Score (1-100)\n",
       "count  200.000000  200.000000          200.000000              200.000000\n",
       "mean   100.500000   38.850000           60.560000               50.200000\n",
       "std     57.879185   13.969007           26.264721               25.823522\n",
       "min      1.000000   18.000000           15.000000                1.000000\n",
       "25%     50.750000   28.750000           41.500000               34.750000\n",
       "50%    100.500000   36.000000           61.500000               50.000000\n",
       "75%    150.250000   49.000000           78.000000               73.000000\n",
       "max    200.000000   70.000000          137.000000               99.000000"
      ]
     },
     "execution_count": 9,
     "metadata": {},
     "output_type": "execute_result"
    }
   ],
   "source": [
    "df1.describe()"
   ]
  },
  {
   "cell_type": "code",
   "execution_count": 10,
   "id": "943c72d9-a988-4a33-b17e-7476be3485d6",
   "metadata": {},
   "outputs": [],
   "source": [
    "df1.to_csv(\"customer_segmentation_cleaned.csv\", index=False)"
   ]
  },
  {
   "cell_type": "code",
   "execution_count": 11,
   "id": "0d56a663-97b3-4738-9058-d398a8118c11",
   "metadata": {},
   "outputs": [],
   "source": [
    "df1.rename(columns={\"Annual Income (k$)\": \"Annual_Income\"}, inplace=True)"
   ]
  },
  {
   "cell_type": "code",
   "execution_count": 15,
   "id": "9ddf1917-f171-489b-8bdf-e124fad807c5",
   "metadata": {},
   "outputs": [
    {
     "name": "stdout",
     "output_type": "stream",
     "text": [
      "Index(['CustomerID', 'Genre', 'Age', 'Annual_Income', 'Spending_Score'], dtype='object')\n"
     ]
    }
   ],
   "source": [
    "print(df1.columns)"
   ]
  },
  {
   "cell_type": "code",
   "execution_count": 14,
   "id": "188e094a-3474-41b8-bc4c-103b5566d8cf",
   "metadata": {},
   "outputs": [],
   "source": [
    "df1.rename(columns={\"Spending Score (1-100)\": \"Spending_Score\"}, inplace=True)"
   ]
  },
  {
   "cell_type": "code",
   "execution_count": 20,
   "id": "df18b398-a98d-4d34-9692-31a1db69e3cd",
   "metadata": {},
   "outputs": [],
   "source": [
    "df1.to_csv(\"customer_segmentation_cleaned.csv\", index=False)"
   ]
  },
  {
   "cell_type": "code",
   "execution_count": 17,
   "id": "7a2896dd-8351-4610-be55-ed3ece49afa6",
   "metadata": {},
   "outputs": [
    {
     "name": "stdout",
     "output_type": "stream",
     "text": [
      "   CustomerID   Genre  Age  Annual_Income  Spending_Score\n",
      "0           1    Male   19             15              39\n",
      "1           2    Male   21             15              81\n",
      "2           3  Female   20             16               6\n",
      "3           4  Female   23             16              77\n",
      "4           5  Female   31             17              40\n"
     ]
    }
   ],
   "source": [
    "df1_new = pd.read_csv(\"customer_segmentation_cleaned.csv\")\n",
    "print(df1_new.head())"
   ]
  },
  {
   "cell_type": "code",
   "execution_count": 18,
   "id": "91d75a80-5bca-466f-b89a-fb21c5babff3",
   "metadata": {},
   "outputs": [],
   "source": [
    "df1 = df1.drop(columns=[\"Genre\"])"
   ]
  },
  {
   "cell_type": "code",
   "execution_count": 19,
   "id": "bc6b283d-c6db-48ce-815e-37d2f400d064",
   "metadata": {},
   "outputs": [
    {
     "name": "stdout",
     "output_type": "stream",
     "text": [
      "Index(['CustomerID', 'Age', 'Annual_Income', 'Spending_Score'], dtype='object')\n"
     ]
    }
   ],
   "source": [
    "print(df1.columns)"
   ]
  },
  {
   "cell_type": "code",
   "execution_count": 21,
   "id": "952cdee5-c690-4065-a832-5573c6fc14b3",
   "metadata": {},
   "outputs": [
    {
     "name": "stdout",
     "output_type": "stream",
     "text": [
      "   CustomerID  Age  Annual_Income  Spending_Score\n",
      "0           1   19             15              39\n",
      "1           2   21             15              81\n",
      "2           3   20             16               6\n",
      "3           4   23             16              77\n",
      "4           5   31             17              40\n"
     ]
    }
   ],
   "source": [
    "df1_new = pd.read_csv(\"customer_segmentation_cleaned.csv\")\n",
    "print(df1_new.head())"
   ]
  },
  {
   "cell_type": "code",
   "execution_count": 22,
   "id": "d5e7db8d-b417-45f0-82a2-4bf7cd4cce6d",
   "metadata": {},
   "outputs": [
    {
     "data": {
      "text/html": [
       "<div>\n",
       "<style scoped>\n",
       "    .dataframe tbody tr th:only-of-type {\n",
       "        vertical-align: middle;\n",
       "    }\n",
       "\n",
       "    .dataframe tbody tr th {\n",
       "        vertical-align: top;\n",
       "    }\n",
       "\n",
       "    .dataframe thead th {\n",
       "        text-align: right;\n",
       "    }\n",
       "</style>\n",
       "<table border=\"1\" class=\"dataframe\">\n",
       "  <thead>\n",
       "    <tr style=\"text-align: right;\">\n",
       "      <th></th>\n",
       "      <th>Age</th>\n",
       "      <th>Attrition</th>\n",
       "      <th>BusinessTravel</th>\n",
       "      <th>DailyRate</th>\n",
       "      <th>Department</th>\n",
       "      <th>DistanceFromHome</th>\n",
       "      <th>Education</th>\n",
       "      <th>EducationField</th>\n",
       "      <th>EmployeeCount</th>\n",
       "      <th>EmployeeNumber</th>\n",
       "      <th>...</th>\n",
       "      <th>RelationshipSatisfaction</th>\n",
       "      <th>StandardHours</th>\n",
       "      <th>StockOptionLevel</th>\n",
       "      <th>TotalWorkingYears</th>\n",
       "      <th>TrainingTimesLastYear</th>\n",
       "      <th>WorkLifeBalance</th>\n",
       "      <th>YearsAtCompany</th>\n",
       "      <th>YearsInCurrentRole</th>\n",
       "      <th>YearsSinceLastPromotion</th>\n",
       "      <th>YearsWithCurrManager</th>\n",
       "    </tr>\n",
       "  </thead>\n",
       "  <tbody>\n",
       "    <tr>\n",
       "      <th>0</th>\n",
       "      <td>41</td>\n",
       "      <td>Yes</td>\n",
       "      <td>Travel_Rarely</td>\n",
       "      <td>1102</td>\n",
       "      <td>Sales</td>\n",
       "      <td>1</td>\n",
       "      <td>2</td>\n",
       "      <td>Life Sciences</td>\n",
       "      <td>1</td>\n",
       "      <td>1</td>\n",
       "      <td>...</td>\n",
       "      <td>1</td>\n",
       "      <td>80</td>\n",
       "      <td>0</td>\n",
       "      <td>8</td>\n",
       "      <td>0</td>\n",
       "      <td>1</td>\n",
       "      <td>6</td>\n",
       "      <td>4</td>\n",
       "      <td>0</td>\n",
       "      <td>5</td>\n",
       "    </tr>\n",
       "    <tr>\n",
       "      <th>1</th>\n",
       "      <td>49</td>\n",
       "      <td>No</td>\n",
       "      <td>Travel_Frequently</td>\n",
       "      <td>279</td>\n",
       "      <td>Research &amp; Development</td>\n",
       "      <td>8</td>\n",
       "      <td>1</td>\n",
       "      <td>Life Sciences</td>\n",
       "      <td>1</td>\n",
       "      <td>2</td>\n",
       "      <td>...</td>\n",
       "      <td>4</td>\n",
       "      <td>80</td>\n",
       "      <td>1</td>\n",
       "      <td>10</td>\n",
       "      <td>3</td>\n",
       "      <td>3</td>\n",
       "      <td>10</td>\n",
       "      <td>7</td>\n",
       "      <td>1</td>\n",
       "      <td>7</td>\n",
       "    </tr>\n",
       "    <tr>\n",
       "      <th>2</th>\n",
       "      <td>37</td>\n",
       "      <td>Yes</td>\n",
       "      <td>Travel_Rarely</td>\n",
       "      <td>1373</td>\n",
       "      <td>Research &amp; Development</td>\n",
       "      <td>2</td>\n",
       "      <td>2</td>\n",
       "      <td>Other</td>\n",
       "      <td>1</td>\n",
       "      <td>4</td>\n",
       "      <td>...</td>\n",
       "      <td>2</td>\n",
       "      <td>80</td>\n",
       "      <td>0</td>\n",
       "      <td>7</td>\n",
       "      <td>3</td>\n",
       "      <td>3</td>\n",
       "      <td>0</td>\n",
       "      <td>0</td>\n",
       "      <td>0</td>\n",
       "      <td>0</td>\n",
       "    </tr>\n",
       "    <tr>\n",
       "      <th>3</th>\n",
       "      <td>33</td>\n",
       "      <td>No</td>\n",
       "      <td>Travel_Frequently</td>\n",
       "      <td>1392</td>\n",
       "      <td>Research &amp; Development</td>\n",
       "      <td>3</td>\n",
       "      <td>4</td>\n",
       "      <td>Life Sciences</td>\n",
       "      <td>1</td>\n",
       "      <td>5</td>\n",
       "      <td>...</td>\n",
       "      <td>3</td>\n",
       "      <td>80</td>\n",
       "      <td>0</td>\n",
       "      <td>8</td>\n",
       "      <td>3</td>\n",
       "      <td>3</td>\n",
       "      <td>8</td>\n",
       "      <td>7</td>\n",
       "      <td>3</td>\n",
       "      <td>0</td>\n",
       "    </tr>\n",
       "    <tr>\n",
       "      <th>4</th>\n",
       "      <td>27</td>\n",
       "      <td>No</td>\n",
       "      <td>Travel_Rarely</td>\n",
       "      <td>591</td>\n",
       "      <td>Research &amp; Development</td>\n",
       "      <td>2</td>\n",
       "      <td>1</td>\n",
       "      <td>Medical</td>\n",
       "      <td>1</td>\n",
       "      <td>7</td>\n",
       "      <td>...</td>\n",
       "      <td>4</td>\n",
       "      <td>80</td>\n",
       "      <td>1</td>\n",
       "      <td>6</td>\n",
       "      <td>3</td>\n",
       "      <td>3</td>\n",
       "      <td>2</td>\n",
       "      <td>2</td>\n",
       "      <td>2</td>\n",
       "      <td>2</td>\n",
       "    </tr>\n",
       "  </tbody>\n",
       "</table>\n",
       "<p>5 rows × 35 columns</p>\n",
       "</div>"
      ],
      "text/plain": [
       "   Age Attrition     BusinessTravel  DailyRate              Department  \\\n",
       "0   41       Yes      Travel_Rarely       1102                   Sales   \n",
       "1   49        No  Travel_Frequently        279  Research & Development   \n",
       "2   37       Yes      Travel_Rarely       1373  Research & Development   \n",
       "3   33        No  Travel_Frequently       1392  Research & Development   \n",
       "4   27        No      Travel_Rarely        591  Research & Development   \n",
       "\n",
       "   DistanceFromHome  Education EducationField  EmployeeCount  EmployeeNumber  \\\n",
       "0                 1          2  Life Sciences              1               1   \n",
       "1                 8          1  Life Sciences              1               2   \n",
       "2                 2          2          Other              1               4   \n",
       "3                 3          4  Life Sciences              1               5   \n",
       "4                 2          1        Medical              1               7   \n",
       "\n",
       "   ...  RelationshipSatisfaction StandardHours  StockOptionLevel  \\\n",
       "0  ...                         1            80                 0   \n",
       "1  ...                         4            80                 1   \n",
       "2  ...                         2            80                 0   \n",
       "3  ...                         3            80                 0   \n",
       "4  ...                         4            80                 1   \n",
       "\n",
       "   TotalWorkingYears  TrainingTimesLastYear WorkLifeBalance  YearsAtCompany  \\\n",
       "0                  8                      0               1               6   \n",
       "1                 10                      3               3              10   \n",
       "2                  7                      3               3               0   \n",
       "3                  8                      3               3               8   \n",
       "4                  6                      3               3               2   \n",
       "\n",
       "  YearsInCurrentRole  YearsSinceLastPromotion  YearsWithCurrManager  \n",
       "0                  4                        0                     5  \n",
       "1                  7                        1                     7  \n",
       "2                  0                        0                     0  \n",
       "3                  7                        3                     0  \n",
       "4                  2                        2                     2  \n",
       "\n",
       "[5 rows x 35 columns]"
      ]
     },
     "execution_count": 22,
     "metadata": {},
     "output_type": "execute_result"
    }
   ],
   "source": [
    "import pandas as pd\n",
    "df2 = pd.read_csv(\"C:/Users/Hp/OneDrive/Documents/10th sem project full/datasets for the project/Employee attrition data(to predict which employees might leave the company).csv\")\n",
    "df2.head()"
   ]
  },
  {
   "cell_type": "code",
   "execution_count": 24,
   "id": "79125a1a-564a-4287-8179-6597593e62a7",
   "metadata": {},
   "outputs": [
    {
     "data": {
      "text/plain": [
       "Age                         0\n",
       "Attrition                   0\n",
       "BusinessTravel              0\n",
       "DailyRate                   0\n",
       "Department                  0\n",
       "DistanceFromHome            0\n",
       "Education                   0\n",
       "EducationField              0\n",
       "EmployeeCount               0\n",
       "EmployeeNumber              0\n",
       "EnvironmentSatisfaction     0\n",
       "Gender                      0\n",
       "HourlyRate                  0\n",
       "JobInvolvement              0\n",
       "JobLevel                    0\n",
       "JobRole                     0\n",
       "JobSatisfaction             0\n",
       "MaritalStatus               0\n",
       "MonthlyIncome               0\n",
       "MonthlyRate                 0\n",
       "NumCompaniesWorked          0\n",
       "Over18                      0\n",
       "OverTime                    0\n",
       "PercentSalaryHike           0\n",
       "PerformanceRating           0\n",
       "RelationshipSatisfaction    0\n",
       "StandardHours               0\n",
       "StockOptionLevel            0\n",
       "TotalWorkingYears           0\n",
       "TrainingTimesLastYear       0\n",
       "WorkLifeBalance             0\n",
       "YearsAtCompany              0\n",
       "YearsInCurrentRole          0\n",
       "YearsSinceLastPromotion     0\n",
       "YearsWithCurrManager        0\n",
       "dtype: int64"
      ]
     },
     "execution_count": 24,
     "metadata": {},
     "output_type": "execute_result"
    }
   ],
   "source": [
    "df2.isnull().sum()"
   ]
  },
  {
   "cell_type": "code",
   "execution_count": 25,
   "id": "e36b23ce-7c29-47db-a0e6-b6709f852be9",
   "metadata": {},
   "outputs": [],
   "source": [
    "df2.drop_duplicates(inplace = True)"
   ]
  },
  {
   "cell_type": "code",
   "execution_count": 26,
   "id": "374ae64e-3b6b-4b7f-945a-aab0251a18b1",
   "metadata": {},
   "outputs": [
    {
     "data": {
      "text/plain": [
       "Age                          int64\n",
       "Attrition                   object\n",
       "BusinessTravel              object\n",
       "DailyRate                    int64\n",
       "Department                  object\n",
       "DistanceFromHome             int64\n",
       "Education                    int64\n",
       "EducationField              object\n",
       "EmployeeCount                int64\n",
       "EmployeeNumber               int64\n",
       "EnvironmentSatisfaction      int64\n",
       "Gender                      object\n",
       "HourlyRate                   int64\n",
       "JobInvolvement               int64\n",
       "JobLevel                     int64\n",
       "JobRole                     object\n",
       "JobSatisfaction              int64\n",
       "MaritalStatus               object\n",
       "MonthlyIncome                int64\n",
       "MonthlyRate                  int64\n",
       "NumCompaniesWorked           int64\n",
       "Over18                      object\n",
       "OverTime                    object\n",
       "PercentSalaryHike            int64\n",
       "PerformanceRating            int64\n",
       "RelationshipSatisfaction     int64\n",
       "StandardHours                int64\n",
       "StockOptionLevel             int64\n",
       "TotalWorkingYears            int64\n",
       "TrainingTimesLastYear        int64\n",
       "WorkLifeBalance              int64\n",
       "YearsAtCompany               int64\n",
       "YearsInCurrentRole           int64\n",
       "YearsSinceLastPromotion      int64\n",
       "YearsWithCurrManager         int64\n",
       "dtype: object"
      ]
     },
     "execution_count": 26,
     "metadata": {},
     "output_type": "execute_result"
    }
   ],
   "source": [
    "df2.dtypes"
   ]
  },
  {
   "cell_type": "code",
   "execution_count": 27,
   "id": "3c00f429-f624-47d2-a840-8af5116ac096",
   "metadata": {},
   "outputs": [
    {
     "data": {
      "text/html": [
       "<div>\n",
       "<style scoped>\n",
       "    .dataframe tbody tr th:only-of-type {\n",
       "        vertical-align: middle;\n",
       "    }\n",
       "\n",
       "    .dataframe tbody tr th {\n",
       "        vertical-align: top;\n",
       "    }\n",
       "\n",
       "    .dataframe thead th {\n",
       "        text-align: right;\n",
       "    }\n",
       "</style>\n",
       "<table border=\"1\" class=\"dataframe\">\n",
       "  <thead>\n",
       "    <tr style=\"text-align: right;\">\n",
       "      <th></th>\n",
       "      <th>Age</th>\n",
       "      <th>DailyRate</th>\n",
       "      <th>DistanceFromHome</th>\n",
       "      <th>Education</th>\n",
       "      <th>EmployeeCount</th>\n",
       "      <th>EmployeeNumber</th>\n",
       "      <th>EnvironmentSatisfaction</th>\n",
       "      <th>HourlyRate</th>\n",
       "      <th>JobInvolvement</th>\n",
       "      <th>JobLevel</th>\n",
       "      <th>...</th>\n",
       "      <th>RelationshipSatisfaction</th>\n",
       "      <th>StandardHours</th>\n",
       "      <th>StockOptionLevel</th>\n",
       "      <th>TotalWorkingYears</th>\n",
       "      <th>TrainingTimesLastYear</th>\n",
       "      <th>WorkLifeBalance</th>\n",
       "      <th>YearsAtCompany</th>\n",
       "      <th>YearsInCurrentRole</th>\n",
       "      <th>YearsSinceLastPromotion</th>\n",
       "      <th>YearsWithCurrManager</th>\n",
       "    </tr>\n",
       "  </thead>\n",
       "  <tbody>\n",
       "    <tr>\n",
       "      <th>count</th>\n",
       "      <td>1470.000000</td>\n",
       "      <td>1470.000000</td>\n",
       "      <td>1470.000000</td>\n",
       "      <td>1470.000000</td>\n",
       "      <td>1470.0</td>\n",
       "      <td>1470.000000</td>\n",
       "      <td>1470.000000</td>\n",
       "      <td>1470.000000</td>\n",
       "      <td>1470.000000</td>\n",
       "      <td>1470.000000</td>\n",
       "      <td>...</td>\n",
       "      <td>1470.000000</td>\n",
       "      <td>1470.0</td>\n",
       "      <td>1470.000000</td>\n",
       "      <td>1470.000000</td>\n",
       "      <td>1470.000000</td>\n",
       "      <td>1470.000000</td>\n",
       "      <td>1470.000000</td>\n",
       "      <td>1470.000000</td>\n",
       "      <td>1470.000000</td>\n",
       "      <td>1470.000000</td>\n",
       "    </tr>\n",
       "    <tr>\n",
       "      <th>mean</th>\n",
       "      <td>36.923810</td>\n",
       "      <td>802.485714</td>\n",
       "      <td>9.192517</td>\n",
       "      <td>2.912925</td>\n",
       "      <td>1.0</td>\n",
       "      <td>1024.865306</td>\n",
       "      <td>2.721769</td>\n",
       "      <td>65.891156</td>\n",
       "      <td>2.729932</td>\n",
       "      <td>2.063946</td>\n",
       "      <td>...</td>\n",
       "      <td>2.712245</td>\n",
       "      <td>80.0</td>\n",
       "      <td>0.793878</td>\n",
       "      <td>11.279592</td>\n",
       "      <td>2.799320</td>\n",
       "      <td>2.761224</td>\n",
       "      <td>7.008163</td>\n",
       "      <td>4.229252</td>\n",
       "      <td>2.187755</td>\n",
       "      <td>4.123129</td>\n",
       "    </tr>\n",
       "    <tr>\n",
       "      <th>std</th>\n",
       "      <td>9.135373</td>\n",
       "      <td>403.509100</td>\n",
       "      <td>8.106864</td>\n",
       "      <td>1.024165</td>\n",
       "      <td>0.0</td>\n",
       "      <td>602.024335</td>\n",
       "      <td>1.093082</td>\n",
       "      <td>20.329428</td>\n",
       "      <td>0.711561</td>\n",
       "      <td>1.106940</td>\n",
       "      <td>...</td>\n",
       "      <td>1.081209</td>\n",
       "      <td>0.0</td>\n",
       "      <td>0.852077</td>\n",
       "      <td>7.780782</td>\n",
       "      <td>1.289271</td>\n",
       "      <td>0.706476</td>\n",
       "      <td>6.126525</td>\n",
       "      <td>3.623137</td>\n",
       "      <td>3.222430</td>\n",
       "      <td>3.568136</td>\n",
       "    </tr>\n",
       "    <tr>\n",
       "      <th>min</th>\n",
       "      <td>18.000000</td>\n",
       "      <td>102.000000</td>\n",
       "      <td>1.000000</td>\n",
       "      <td>1.000000</td>\n",
       "      <td>1.0</td>\n",
       "      <td>1.000000</td>\n",
       "      <td>1.000000</td>\n",
       "      <td>30.000000</td>\n",
       "      <td>1.000000</td>\n",
       "      <td>1.000000</td>\n",
       "      <td>...</td>\n",
       "      <td>1.000000</td>\n",
       "      <td>80.0</td>\n",
       "      <td>0.000000</td>\n",
       "      <td>0.000000</td>\n",
       "      <td>0.000000</td>\n",
       "      <td>1.000000</td>\n",
       "      <td>0.000000</td>\n",
       "      <td>0.000000</td>\n",
       "      <td>0.000000</td>\n",
       "      <td>0.000000</td>\n",
       "    </tr>\n",
       "    <tr>\n",
       "      <th>25%</th>\n",
       "      <td>30.000000</td>\n",
       "      <td>465.000000</td>\n",
       "      <td>2.000000</td>\n",
       "      <td>2.000000</td>\n",
       "      <td>1.0</td>\n",
       "      <td>491.250000</td>\n",
       "      <td>2.000000</td>\n",
       "      <td>48.000000</td>\n",
       "      <td>2.000000</td>\n",
       "      <td>1.000000</td>\n",
       "      <td>...</td>\n",
       "      <td>2.000000</td>\n",
       "      <td>80.0</td>\n",
       "      <td>0.000000</td>\n",
       "      <td>6.000000</td>\n",
       "      <td>2.000000</td>\n",
       "      <td>2.000000</td>\n",
       "      <td>3.000000</td>\n",
       "      <td>2.000000</td>\n",
       "      <td>0.000000</td>\n",
       "      <td>2.000000</td>\n",
       "    </tr>\n",
       "    <tr>\n",
       "      <th>50%</th>\n",
       "      <td>36.000000</td>\n",
       "      <td>802.000000</td>\n",
       "      <td>7.000000</td>\n",
       "      <td>3.000000</td>\n",
       "      <td>1.0</td>\n",
       "      <td>1020.500000</td>\n",
       "      <td>3.000000</td>\n",
       "      <td>66.000000</td>\n",
       "      <td>3.000000</td>\n",
       "      <td>2.000000</td>\n",
       "      <td>...</td>\n",
       "      <td>3.000000</td>\n",
       "      <td>80.0</td>\n",
       "      <td>1.000000</td>\n",
       "      <td>10.000000</td>\n",
       "      <td>3.000000</td>\n",
       "      <td>3.000000</td>\n",
       "      <td>5.000000</td>\n",
       "      <td>3.000000</td>\n",
       "      <td>1.000000</td>\n",
       "      <td>3.000000</td>\n",
       "    </tr>\n",
       "    <tr>\n",
       "      <th>75%</th>\n",
       "      <td>43.000000</td>\n",
       "      <td>1157.000000</td>\n",
       "      <td>14.000000</td>\n",
       "      <td>4.000000</td>\n",
       "      <td>1.0</td>\n",
       "      <td>1555.750000</td>\n",
       "      <td>4.000000</td>\n",
       "      <td>83.750000</td>\n",
       "      <td>3.000000</td>\n",
       "      <td>3.000000</td>\n",
       "      <td>...</td>\n",
       "      <td>4.000000</td>\n",
       "      <td>80.0</td>\n",
       "      <td>1.000000</td>\n",
       "      <td>15.000000</td>\n",
       "      <td>3.000000</td>\n",
       "      <td>3.000000</td>\n",
       "      <td>9.000000</td>\n",
       "      <td>7.000000</td>\n",
       "      <td>3.000000</td>\n",
       "      <td>7.000000</td>\n",
       "    </tr>\n",
       "    <tr>\n",
       "      <th>max</th>\n",
       "      <td>60.000000</td>\n",
       "      <td>1499.000000</td>\n",
       "      <td>29.000000</td>\n",
       "      <td>5.000000</td>\n",
       "      <td>1.0</td>\n",
       "      <td>2068.000000</td>\n",
       "      <td>4.000000</td>\n",
       "      <td>100.000000</td>\n",
       "      <td>4.000000</td>\n",
       "      <td>5.000000</td>\n",
       "      <td>...</td>\n",
       "      <td>4.000000</td>\n",
       "      <td>80.0</td>\n",
       "      <td>3.000000</td>\n",
       "      <td>40.000000</td>\n",
       "      <td>6.000000</td>\n",
       "      <td>4.000000</td>\n",
       "      <td>40.000000</td>\n",
       "      <td>18.000000</td>\n",
       "      <td>15.000000</td>\n",
       "      <td>17.000000</td>\n",
       "    </tr>\n",
       "  </tbody>\n",
       "</table>\n",
       "<p>8 rows × 26 columns</p>\n",
       "</div>"
      ],
      "text/plain": [
       "               Age    DailyRate  DistanceFromHome    Education  EmployeeCount  \\\n",
       "count  1470.000000  1470.000000       1470.000000  1470.000000         1470.0   \n",
       "mean     36.923810   802.485714          9.192517     2.912925            1.0   \n",
       "std       9.135373   403.509100          8.106864     1.024165            0.0   \n",
       "min      18.000000   102.000000          1.000000     1.000000            1.0   \n",
       "25%      30.000000   465.000000          2.000000     2.000000            1.0   \n",
       "50%      36.000000   802.000000          7.000000     3.000000            1.0   \n",
       "75%      43.000000  1157.000000         14.000000     4.000000            1.0   \n",
       "max      60.000000  1499.000000         29.000000     5.000000            1.0   \n",
       "\n",
       "       EmployeeNumber  EnvironmentSatisfaction   HourlyRate  JobInvolvement  \\\n",
       "count     1470.000000              1470.000000  1470.000000     1470.000000   \n",
       "mean      1024.865306                 2.721769    65.891156        2.729932   \n",
       "std        602.024335                 1.093082    20.329428        0.711561   \n",
       "min          1.000000                 1.000000    30.000000        1.000000   \n",
       "25%        491.250000                 2.000000    48.000000        2.000000   \n",
       "50%       1020.500000                 3.000000    66.000000        3.000000   \n",
       "75%       1555.750000                 4.000000    83.750000        3.000000   \n",
       "max       2068.000000                 4.000000   100.000000        4.000000   \n",
       "\n",
       "          JobLevel  ...  RelationshipSatisfaction  StandardHours  \\\n",
       "count  1470.000000  ...               1470.000000         1470.0   \n",
       "mean      2.063946  ...                  2.712245           80.0   \n",
       "std       1.106940  ...                  1.081209            0.0   \n",
       "min       1.000000  ...                  1.000000           80.0   \n",
       "25%       1.000000  ...                  2.000000           80.0   \n",
       "50%       2.000000  ...                  3.000000           80.0   \n",
       "75%       3.000000  ...                  4.000000           80.0   \n",
       "max       5.000000  ...                  4.000000           80.0   \n",
       "\n",
       "       StockOptionLevel  TotalWorkingYears  TrainingTimesLastYear  \\\n",
       "count       1470.000000        1470.000000            1470.000000   \n",
       "mean           0.793878          11.279592               2.799320   \n",
       "std            0.852077           7.780782               1.289271   \n",
       "min            0.000000           0.000000               0.000000   \n",
       "25%            0.000000           6.000000               2.000000   \n",
       "50%            1.000000          10.000000               3.000000   \n",
       "75%            1.000000          15.000000               3.000000   \n",
       "max            3.000000          40.000000               6.000000   \n",
       "\n",
       "       WorkLifeBalance  YearsAtCompany  YearsInCurrentRole  \\\n",
       "count      1470.000000     1470.000000         1470.000000   \n",
       "mean          2.761224        7.008163            4.229252   \n",
       "std           0.706476        6.126525            3.623137   \n",
       "min           1.000000        0.000000            0.000000   \n",
       "25%           2.000000        3.000000            2.000000   \n",
       "50%           3.000000        5.000000            3.000000   \n",
       "75%           3.000000        9.000000            7.000000   \n",
       "max           4.000000       40.000000           18.000000   \n",
       "\n",
       "       YearsSinceLastPromotion  YearsWithCurrManager  \n",
       "count              1470.000000           1470.000000  \n",
       "mean                  2.187755              4.123129  \n",
       "std                   3.222430              3.568136  \n",
       "min                   0.000000              0.000000  \n",
       "25%                   0.000000              2.000000  \n",
       "50%                   1.000000              3.000000  \n",
       "75%                   3.000000              7.000000  \n",
       "max                  15.000000             17.000000  \n",
       "\n",
       "[8 rows x 26 columns]"
      ]
     },
     "execution_count": 27,
     "metadata": {},
     "output_type": "execute_result"
    }
   ],
   "source": [
    "df2.describe()"
   ]
  },
  {
   "cell_type": "code",
   "execution_count": 29,
   "id": "849a1af0-660a-464a-a13e-6e6249abc1a0",
   "metadata": {},
   "outputs": [],
   "source": [
    "df2 = df2.drop(columns=[\"BusinessTravel\", \"DailyRate\", \"DistanceFromHome\", \"Education\", \"EducationField\", \"EmployeeCount\", \"EmployeeNumber\", \"Gender\", \"HourlyRate\", \"JobInvolvement\", \"JobLevel\", \"MaritalStatus\", \"MonthlyRate\", \"NumCompaniesWorked\", \"Over18\", \"PercentSalaryHike\", \"PerformanceRating\", \"RelationshipSatisfaction\", \"StandardHours\", \"StockOptionLevel\", \"TotalWorkingYears\", \"TrainingTimesLastYear\", \"YearsInCurrentRole\", \"YearsSinceLastPromotion\", \"YearsWithCurrManager\"])"
   ]
  },
  {
   "cell_type": "code",
   "execution_count": 31,
   "id": "86f14f28-35f5-4f43-b3c2-dc2e766222a4",
   "metadata": {},
   "outputs": [
    {
     "data": {
      "text/plain": [
       "Age                         int64\n",
       "Attrition                  object\n",
       "Department                 object\n",
       "EnvironmentSatisfaction     int64\n",
       "JobRole                    object\n",
       "JobSatisfaction             int64\n",
       "MonthlyIncome               int64\n",
       "OverTime                   object\n",
       "WorkLifeBalance             int64\n",
       "YearsAtCompany              int64\n",
       "dtype: object"
      ]
     },
     "execution_count": 31,
     "metadata": {},
     "output_type": "execute_result"
    }
   ],
   "source": [
    "df2.dtypes"
   ]
  },
  {
   "cell_type": "code",
   "execution_count": 32,
   "id": "b3f8e35d-3249-4161-8aca-b654efa708aa",
   "metadata": {},
   "outputs": [],
   "source": [
    "df2.to_csv(\"employee_attrition_cleaned.csv\", index=False)"
   ]
  },
  {
   "cell_type": "code",
   "execution_count": 33,
   "id": "c869520c-2a47-45f2-bdfe-ba0b51a16de0",
   "metadata": {},
   "outputs": [
    {
     "name": "stdout",
     "output_type": "stream",
     "text": [
      "   Age Attrition              Department  EnvironmentSatisfaction  \\\n",
      "0   41       Yes                   Sales                        2   \n",
      "1   49        No  Research & Development                        3   \n",
      "2   37       Yes  Research & Development                        4   \n",
      "3   33        No  Research & Development                        4   \n",
      "4   27        No  Research & Development                        1   \n",
      "\n",
      "                 JobRole  JobSatisfaction  MonthlyIncome OverTime  \\\n",
      "0        Sales Executive                4           5993      Yes   \n",
      "1     Research Scientist                2           5130       No   \n",
      "2  Laboratory Technician                3           2090      Yes   \n",
      "3     Research Scientist                3           2909      Yes   \n",
      "4  Laboratory Technician                2           3468       No   \n",
      "\n",
      "   WorkLifeBalance  YearsAtCompany  \n",
      "0                1               6  \n",
      "1                3              10  \n",
      "2                3               0  \n",
      "3                3               8  \n",
      "4                3               2  \n"
     ]
    }
   ],
   "source": [
    "df2_new = pd.read_csv(\"employee_attrition_cleaned.csv\")\n",
    "print(df2_new.head())"
   ]
  },
  {
   "cell_type": "code",
   "execution_count": 59,
   "id": "2271a2f1-1f95-4bc7-869c-4e44f41441b7",
   "metadata": {},
   "outputs": [
    {
     "data": {
      "text/html": [
       "<div>\n",
       "<style scoped>\n",
       "    .dataframe tbody tr th:only-of-type {\n",
       "        vertical-align: middle;\n",
       "    }\n",
       "\n",
       "    .dataframe tbody tr th {\n",
       "        vertical-align: top;\n",
       "    }\n",
       "\n",
       "    .dataframe thead th {\n",
       "        text-align: right;\n",
       "    }\n",
       "</style>\n",
       "<table border=\"1\" class=\"dataframe\">\n",
       "  <thead>\n",
       "    <tr style=\"text-align: right;\">\n",
       "      <th></th>\n",
       "      <th>Date</th>\n",
       "      <th>Store ID</th>\n",
       "      <th>Product ID</th>\n",
       "      <th>Category</th>\n",
       "      <th>Region</th>\n",
       "      <th>Inventory Level</th>\n",
       "      <th>Units Sold</th>\n",
       "      <th>Units Ordered</th>\n",
       "      <th>Demand Forecast</th>\n",
       "      <th>Price</th>\n",
       "      <th>Discount</th>\n",
       "      <th>Weather Condition</th>\n",
       "      <th>Holiday/Promotion</th>\n",
       "      <th>Competitor Pricing</th>\n",
       "      <th>Seasonality</th>\n",
       "    </tr>\n",
       "  </thead>\n",
       "  <tbody>\n",
       "    <tr>\n",
       "      <th>73095</th>\n",
       "      <td>01-01-2024</td>\n",
       "      <td>S005</td>\n",
       "      <td>P0016</td>\n",
       "      <td>Furniture</td>\n",
       "      <td>East</td>\n",
       "      <td>96</td>\n",
       "      <td>8</td>\n",
       "      <td>127</td>\n",
       "      <td>18.46</td>\n",
       "      <td>73.73</td>\n",
       "      <td>20</td>\n",
       "      <td>Snowy</td>\n",
       "      <td>0</td>\n",
       "      <td>72.45</td>\n",
       "      <td>Winter</td>\n",
       "    </tr>\n",
       "    <tr>\n",
       "      <th>73096</th>\n",
       "      <td>01-01-2024</td>\n",
       "      <td>S005</td>\n",
       "      <td>P0017</td>\n",
       "      <td>Toys</td>\n",
       "      <td>North</td>\n",
       "      <td>313</td>\n",
       "      <td>51</td>\n",
       "      <td>101</td>\n",
       "      <td>48.43</td>\n",
       "      <td>82.57</td>\n",
       "      <td>10</td>\n",
       "      <td>Cloudy</td>\n",
       "      <td>0</td>\n",
       "      <td>83.78</td>\n",
       "      <td>Autumn</td>\n",
       "    </tr>\n",
       "    <tr>\n",
       "      <th>73097</th>\n",
       "      <td>01-01-2024</td>\n",
       "      <td>S005</td>\n",
       "      <td>P0018</td>\n",
       "      <td>Clothing</td>\n",
       "      <td>West</td>\n",
       "      <td>278</td>\n",
       "      <td>36</td>\n",
       "      <td>151</td>\n",
       "      <td>39.65</td>\n",
       "      <td>11.11</td>\n",
       "      <td>10</td>\n",
       "      <td>Rainy</td>\n",
       "      <td>0</td>\n",
       "      <td>10.91</td>\n",
       "      <td>Winter</td>\n",
       "    </tr>\n",
       "    <tr>\n",
       "      <th>73098</th>\n",
       "      <td>01-01-2024</td>\n",
       "      <td>S005</td>\n",
       "      <td>P0019</td>\n",
       "      <td>Toys</td>\n",
       "      <td>East</td>\n",
       "      <td>374</td>\n",
       "      <td>264</td>\n",
       "      <td>21</td>\n",
       "      <td>270.52</td>\n",
       "      <td>53.14</td>\n",
       "      <td>20</td>\n",
       "      <td>Rainy</td>\n",
       "      <td>0</td>\n",
       "      <td>55.80</td>\n",
       "      <td>Spring</td>\n",
       "    </tr>\n",
       "    <tr>\n",
       "      <th>73099</th>\n",
       "      <td>01-01-2024</td>\n",
       "      <td>S005</td>\n",
       "      <td>P0020</td>\n",
       "      <td>Groceries</td>\n",
       "      <td>East</td>\n",
       "      <td>117</td>\n",
       "      <td>6</td>\n",
       "      <td>165</td>\n",
       "      <td>2.33</td>\n",
       "      <td>78.39</td>\n",
       "      <td>20</td>\n",
       "      <td>Rainy</td>\n",
       "      <td>1</td>\n",
       "      <td>79.52</td>\n",
       "      <td>Spring</td>\n",
       "    </tr>\n",
       "  </tbody>\n",
       "</table>\n",
       "</div>"
      ],
      "text/plain": [
       "             Date Store ID Product ID   Category Region  Inventory Level  \\\n",
       "73095  01-01-2024     S005      P0016  Furniture   East               96   \n",
       "73096  01-01-2024     S005      P0017       Toys  North              313   \n",
       "73097  01-01-2024     S005      P0018   Clothing   West              278   \n",
       "73098  01-01-2024     S005      P0019       Toys   East              374   \n",
       "73099  01-01-2024     S005      P0020  Groceries   East              117   \n",
       "\n",
       "       Units Sold  Units Ordered  Demand Forecast  Price  Discount  \\\n",
       "73095           8            127            18.46  73.73        20   \n",
       "73096          51            101            48.43  82.57        10   \n",
       "73097          36            151            39.65  11.11        10   \n",
       "73098         264             21           270.52  53.14        20   \n",
       "73099           6            165             2.33  78.39        20   \n",
       "\n",
       "      Weather Condition  Holiday/Promotion  Competitor Pricing Seasonality  \n",
       "73095             Snowy                  0               72.45      Winter  \n",
       "73096            Cloudy                  0               83.78      Autumn  \n",
       "73097             Rainy                  0               10.91      Winter  \n",
       "73098             Rainy                  0               55.80      Spring  \n",
       "73099             Rainy                  1               79.52      Spring  "
      ]
     },
     "execution_count": 59,
     "metadata": {},
     "output_type": "execute_result"
    }
   ],
   "source": [
    "import pandas as pd\n",
    "df3 = pd.read_csv(\"C:/Users/Hp/OneDrive/Documents/10th sem project full/datasets for the project/Sales forecasting data (to predict future sales).csv\")\n",
    "df3.tail()"
   ]
  },
  {
   "cell_type": "code",
   "execution_count": 36,
   "id": "3cd6266f-ecd8-4865-ad0f-a80a7c6817f2",
   "metadata": {},
   "outputs": [
    {
     "data": {
      "text/plain": [
       "Date                  0\n",
       "Store ID              0\n",
       "Product ID            0\n",
       "Category              0\n",
       "Region                0\n",
       "Inventory Level       0\n",
       "Units Sold            0\n",
       "Units Ordered         0\n",
       "Demand Forecast       0\n",
       "Price                 0\n",
       "Discount              0\n",
       "Weather Condition     0\n",
       "Holiday/Promotion     0\n",
       "Competitor Pricing    0\n",
       "Seasonality           0\n",
       "dtype: int64"
      ]
     },
     "execution_count": 36,
     "metadata": {},
     "output_type": "execute_result"
    }
   ],
   "source": [
    "df3.isnull().sum()"
   ]
  },
  {
   "cell_type": "code",
   "execution_count": 37,
   "id": "a9a5e4d5-9303-4026-b2ce-77b5a3dcc4e4",
   "metadata": {},
   "outputs": [],
   "source": [
    "df3.drop_duplicates(inplace = True)"
   ]
  },
  {
   "cell_type": "code",
   "execution_count": 60,
   "id": "05fc6645-ef88-4d5f-9b5f-ec2cabf37497",
   "metadata": {},
   "outputs": [
    {
     "data": {
      "text/plain": [
       "Date                   object\n",
       "Store ID               object\n",
       "Product ID             object\n",
       "Category               object\n",
       "Region                 object\n",
       "Inventory Level         int64\n",
       "Units Sold              int64\n",
       "Units Ordered           int64\n",
       "Demand Forecast       float64\n",
       "Price                 float64\n",
       "Discount                int64\n",
       "Weather Condition      object\n",
       "Holiday/Promotion       int64\n",
       "Competitor Pricing    float64\n",
       "Seasonality            object\n",
       "dtype: object"
      ]
     },
     "execution_count": 60,
     "metadata": {},
     "output_type": "execute_result"
    }
   ],
   "source": [
    "df3.dtypes"
   ]
  },
  {
   "cell_type": "code",
   "execution_count": 46,
   "id": "979f4cbe-3f87-4b6a-bcb6-545ec05a71df",
   "metadata": {},
   "outputs": [
    {
     "data": {
      "text/html": [
       "<div>\n",
       "<style scoped>\n",
       "    .dataframe tbody tr th:only-of-type {\n",
       "        vertical-align: middle;\n",
       "    }\n",
       "\n",
       "    .dataframe tbody tr th {\n",
       "        vertical-align: top;\n",
       "    }\n",
       "\n",
       "    .dataframe thead th {\n",
       "        text-align: right;\n",
       "    }\n",
       "</style>\n",
       "<table border=\"1\" class=\"dataframe\">\n",
       "  <thead>\n",
       "    <tr style=\"text-align: right;\">\n",
       "      <th></th>\n",
       "      <th>Inventory Level</th>\n",
       "      <th>Units Sold</th>\n",
       "      <th>Units Ordered</th>\n",
       "      <th>Demand Forecast</th>\n",
       "      <th>Price</th>\n",
       "      <th>Discount</th>\n",
       "      <th>Holiday/Promotion</th>\n",
       "      <th>Competitor Pricing</th>\n",
       "    </tr>\n",
       "  </thead>\n",
       "  <tbody>\n",
       "    <tr>\n",
       "      <th>count</th>\n",
       "      <td>73100.000000</td>\n",
       "      <td>73100.000000</td>\n",
       "      <td>73100.000000</td>\n",
       "      <td>73100.000000</td>\n",
       "      <td>73100.000000</td>\n",
       "      <td>73100.000000</td>\n",
       "      <td>73100.000000</td>\n",
       "      <td>73100.000000</td>\n",
       "    </tr>\n",
       "    <tr>\n",
       "      <th>mean</th>\n",
       "      <td>274.469877</td>\n",
       "      <td>136.464870</td>\n",
       "      <td>110.004473</td>\n",
       "      <td>141.494720</td>\n",
       "      <td>55.135108</td>\n",
       "      <td>10.009508</td>\n",
       "      <td>0.497305</td>\n",
       "      <td>55.146077</td>\n",
       "    </tr>\n",
       "    <tr>\n",
       "      <th>std</th>\n",
       "      <td>129.949514</td>\n",
       "      <td>108.919406</td>\n",
       "      <td>52.277448</td>\n",
       "      <td>109.254076</td>\n",
       "      <td>26.021945</td>\n",
       "      <td>7.083746</td>\n",
       "      <td>0.499996</td>\n",
       "      <td>26.191408</td>\n",
       "    </tr>\n",
       "    <tr>\n",
       "      <th>min</th>\n",
       "      <td>50.000000</td>\n",
       "      <td>0.000000</td>\n",
       "      <td>20.000000</td>\n",
       "      <td>-9.990000</td>\n",
       "      <td>10.000000</td>\n",
       "      <td>0.000000</td>\n",
       "      <td>0.000000</td>\n",
       "      <td>5.030000</td>\n",
       "    </tr>\n",
       "    <tr>\n",
       "      <th>25%</th>\n",
       "      <td>162.000000</td>\n",
       "      <td>49.000000</td>\n",
       "      <td>65.000000</td>\n",
       "      <td>53.670000</td>\n",
       "      <td>32.650000</td>\n",
       "      <td>5.000000</td>\n",
       "      <td>0.000000</td>\n",
       "      <td>32.680000</td>\n",
       "    </tr>\n",
       "    <tr>\n",
       "      <th>50%</th>\n",
       "      <td>273.000000</td>\n",
       "      <td>107.000000</td>\n",
       "      <td>110.000000</td>\n",
       "      <td>113.015000</td>\n",
       "      <td>55.050000</td>\n",
       "      <td>10.000000</td>\n",
       "      <td>0.000000</td>\n",
       "      <td>55.010000</td>\n",
       "    </tr>\n",
       "    <tr>\n",
       "      <th>75%</th>\n",
       "      <td>387.000000</td>\n",
       "      <td>203.000000</td>\n",
       "      <td>155.000000</td>\n",
       "      <td>208.052500</td>\n",
       "      <td>77.860000</td>\n",
       "      <td>15.000000</td>\n",
       "      <td>1.000000</td>\n",
       "      <td>77.820000</td>\n",
       "    </tr>\n",
       "    <tr>\n",
       "      <th>max</th>\n",
       "      <td>500.000000</td>\n",
       "      <td>499.000000</td>\n",
       "      <td>200.000000</td>\n",
       "      <td>518.550000</td>\n",
       "      <td>100.000000</td>\n",
       "      <td>20.000000</td>\n",
       "      <td>1.000000</td>\n",
       "      <td>104.940000</td>\n",
       "    </tr>\n",
       "  </tbody>\n",
       "</table>\n",
       "</div>"
      ],
      "text/plain": [
       "       Inventory Level    Units Sold  Units Ordered  Demand Forecast  \\\n",
       "count     73100.000000  73100.000000   73100.000000     73100.000000   \n",
       "mean        274.469877    136.464870     110.004473       141.494720   \n",
       "std         129.949514    108.919406      52.277448       109.254076   \n",
       "min          50.000000      0.000000      20.000000        -9.990000   \n",
       "25%         162.000000     49.000000      65.000000        53.670000   \n",
       "50%         273.000000    107.000000     110.000000       113.015000   \n",
       "75%         387.000000    203.000000     155.000000       208.052500   \n",
       "max         500.000000    499.000000     200.000000       518.550000   \n",
       "\n",
       "              Price      Discount  Holiday/Promotion  Competitor Pricing  \n",
       "count  73100.000000  73100.000000       73100.000000        73100.000000  \n",
       "mean      55.135108     10.009508           0.497305           55.146077  \n",
       "std       26.021945      7.083746           0.499996           26.191408  \n",
       "min       10.000000      0.000000           0.000000            5.030000  \n",
       "25%       32.650000      5.000000           0.000000           32.680000  \n",
       "50%       55.050000     10.000000           0.000000           55.010000  \n",
       "75%       77.860000     15.000000           1.000000           77.820000  \n",
       "max      100.000000     20.000000           1.000000          104.940000  "
      ]
     },
     "execution_count": 46,
     "metadata": {},
     "output_type": "execute_result"
    }
   ],
   "source": [
    "df3.describe()"
   ]
  },
  {
   "cell_type": "code",
   "execution_count": 47,
   "id": "0235cd63-78fc-48f1-8758-13d328fe180c",
   "metadata": {},
   "outputs": [],
   "source": [
    "df3 = df3.drop(columns=[\"Category\", \"Region\", \"Units Ordered\", \"Demand Forecast\", \"Weather Condition\", \"Competitor Pricing\", \"Seasonality\"])"
   ]
  },
  {
   "cell_type": "code",
   "execution_count": 63,
   "id": "ba725194-2aac-405c-a723-12eb6993627a",
   "metadata": {},
   "outputs": [
    {
     "data": {
      "text/plain": [
       "Date                  object\n",
       "Store ID              object\n",
       "Product ID            object\n",
       "Inventory Level        int64\n",
       "Units Sold             int64\n",
       "Price                float64\n",
       "Discount               int64\n",
       "Holiday/Promotion      int64\n",
       "dtype: object"
      ]
     },
     "execution_count": 63,
     "metadata": {},
     "output_type": "execute_result"
    }
   ],
   "source": [
    "df3.dtypes"
   ]
  },
  {
   "cell_type": "code",
   "execution_count": 62,
   "id": "01f570fa-74b8-46fc-86fd-07f998f96c9d",
   "metadata": {},
   "outputs": [],
   "source": [
    "df3 = df3.drop(columns=[\"Category\", \"Region\", \"Units Ordered\", \"Demand Forecast\", \"Weather Condition\", \"Competitor Pricing\", \"Seasonality\"])"
   ]
  },
  {
   "cell_type": "code",
   "execution_count": 64,
   "id": "9a4ee53d-2849-4f0a-88b8-45984f82b7e1",
   "metadata": {},
   "outputs": [],
   "source": [
    "df3['sales'] = df3['Units Sold'] * df3['Price']"
   ]
  },
  {
   "cell_type": "code",
   "execution_count": 65,
   "id": "151cbaef-566b-41d6-8110-9142acfbff63",
   "metadata": {},
   "outputs": [],
   "source": [
    "df3['stock_available'] = df3['Inventory Level'].apply(lambda x: 1 if x > 0 else 0)"
   ]
  },
  {
   "cell_type": "code",
   "execution_count": 66,
   "id": "034f1a6e-cbea-40c5-8297-39ebb4150ee6",
   "metadata": {},
   "outputs": [
    {
     "data": {
      "text/plain": [
       "Date                  object\n",
       "Store ID              object\n",
       "Product ID            object\n",
       "Inventory Level        int64\n",
       "Units Sold             int64\n",
       "Price                float64\n",
       "Discount               int64\n",
       "Holiday/Promotion      int64\n",
       "sales                float64\n",
       "stock_available        int64\n",
       "dtype: object"
      ]
     },
     "execution_count": 66,
     "metadata": {},
     "output_type": "execute_result"
    }
   ],
   "source": [
    "df3.dtypes"
   ]
  },
  {
   "cell_type": "code",
   "execution_count": 67,
   "id": "f563c7ab-0d1c-4654-b4c6-3e8feb6856d2",
   "metadata": {},
   "outputs": [],
   "source": [
    "df3.to_csv(\"sales_forecasting_cleaned.csv\", index=False)"
   ]
  },
  {
   "cell_type": "code",
   "execution_count": 68,
   "id": "d090f730-e27d-48a6-8c5c-3ce177f582b3",
   "metadata": {},
   "outputs": [
    {
     "name": "stdout",
     "output_type": "stream",
     "text": [
      "         Date Store ID Product ID  Inventory Level  Units Sold  Price  \\\n",
      "0  01-01-2022     S001      P0001              231         127  33.50   \n",
      "1  01-01-2022     S001      P0002              204         150  63.01   \n",
      "2  01-01-2022     S001      P0003              102          65  27.99   \n",
      "3  01-01-2022     S001      P0004              469          61  32.72   \n",
      "4  01-01-2022     S001      P0005              166          14  73.64   \n",
      "\n",
      "   Discount  Holiday/Promotion    sales  stock_available  \n",
      "0        20                  0  4254.50                1  \n",
      "1        20                  0  9451.50                1  \n",
      "2        10                  1  1819.35                1  \n",
      "3        10                  1  1995.92                1  \n",
      "4         0                  0  1030.96                1  \n"
     ]
    }
   ],
   "source": [
    "df3_new = pd.read_csv(\"sales_forecasting_cleaned.csv\")\n",
    "print(df3_new.head())"
   ]
  },
  {
   "cell_type": "code",
   "execution_count": 2,
   "id": "305cbfd8-95c3-48f3-addd-14135c0cef09",
   "metadata": {},
   "outputs": [],
   "source": [
    "import pandas as pd\n",
    "dfA = pd.read_csv('customer_churn_cleaned.csv')"
   ]
  },
  {
   "cell_type": "code",
   "execution_count": 4,
   "id": "bfd2fb9d-596b-46ab-978d-5056dda31fb4",
   "metadata": {},
   "outputs": [],
   "source": [
    "dfA.drop('customerID', axis=1, inplace=True)"
   ]
  },
  {
   "cell_type": "code",
   "execution_count": 6,
   "id": "689a0fab-0516-4504-be65-740ad31e8a19",
   "metadata": {},
   "outputs": [
    {
     "name": "stdout",
     "output_type": "stream",
     "text": [
      "tenure              0\n",
      "InternetService     0\n",
      "OnlineSecurity      0\n",
      "TechSupport         0\n",
      "Contract            0\n",
      "PaymentMethod       0\n",
      "MonthlyCharges      0\n",
      "TotalCharges       11\n",
      "Churn               0\n",
      "dtype: int64\n"
     ]
    }
   ],
   "source": [
    "print(dfA.isnull().sum())"
   ]
  },
  {
   "cell_type": "code",
   "execution_count": 8,
   "id": "a94aead9-c240-4cbe-9b43-64e181ff76bf",
   "metadata": {},
   "outputs": [],
   "source": [
    "dfA['TotalCharges'] = pd.to_numeric(dfA['TotalCharges'], errors='coerce')\n",
    "dfA.dropna(inplace=True)"
   ]
  },
  {
   "cell_type": "code",
   "execution_count": 10,
   "id": "875a2d41-4d13-483f-8f29-1a09bf790310",
   "metadata": {},
   "outputs": [],
   "source": [
    "dfA['Churn'] = dfA['Churn'].map({'No' : 0, 'Yes' : 1})"
   ]
  },
  {
   "cell_type": "code",
   "execution_count": 12,
   "id": "6c389087-e137-4798-8ac0-3d64425204cb",
   "metadata": {},
   "outputs": [],
   "source": [
    "dfA['InternetService'] = dfA['InternetService'].map({'DSL':0, 'Fiber optic':1, 'No':2})"
   ]
  },
  {
   "cell_type": "code",
   "execution_count": 13,
   "id": "43147cff-509c-4868-8e8f-4b5dd002d940",
   "metadata": {},
   "outputs": [],
   "source": [
    "dfA['OnlineSecurity'] = dfA['OnlineSecurity'].map({'Yes':1, 'No':0, 'No internet service':2})"
   ]
  },
  {
   "cell_type": "code",
   "execution_count": 14,
   "id": "3ded9f12-3a9e-4288-b3ea-2a205b18f234",
   "metadata": {},
   "outputs": [],
   "source": [
    "dfA['TechSupport'] = dfA['TechSupport'].map({'Yes':1, 'No':0, 'No internet service':2})"
   ]
  },
  {
   "cell_type": "code",
   "execution_count": 16,
   "id": "e5c04df8-240e-4e4a-80d5-cc9e4893e57f",
   "metadata": {},
   "outputs": [],
   "source": [
    "dfA['Contract'] = dfA['Contract'].map({'Month-to-month':0, 'One year':1, 'Two year':2})"
   ]
  },
  {
   "cell_type": "code",
   "execution_count": 17,
   "id": "bf850cf3-5b88-4d3a-9f81-918cc55c1362",
   "metadata": {},
   "outputs": [],
   "source": [
    "dfA['PaymentMethod'] = dfA['PaymentMethod'].map({'Electronic check':0, 'Mailed check':1, 'Bank transfer (automatic)':2, 'Credit card (automatic)':3})"
   ]
  },
  {
   "cell_type": "code",
   "execution_count": 18,
   "id": "5a8b1155-88e5-42ff-87af-16f94d405457",
   "metadata": {},
   "outputs": [
    {
     "name": "stdout",
     "output_type": "stream",
     "text": [
      "   tenure  InternetService  OnlineSecurity  TechSupport  Contract  \\\n",
      "0       1                0               0            0         0   \n",
      "1      34                0               1            0         1   \n",
      "2       2                0               1            0         0   \n",
      "3      45                0               1            1         1   \n",
      "4       2                1               0            0         0   \n",
      "\n",
      "   PaymentMethod  MonthlyCharges  TotalCharges  Churn  \n",
      "0              0           29.85         29.85      0  \n",
      "1              1           56.95       1889.50      0  \n",
      "2              1           53.85        108.15      1  \n",
      "3              2           42.30       1840.75      0  \n",
      "4              0           70.70        151.65      1  \n"
     ]
    }
   ],
   "source": [
    "print(dfA.head())"
   ]
  },
  {
   "cell_type": "code",
   "execution_count": 19,
   "id": "47e19319-ce34-44db-90d7-2c2aac02993d",
   "metadata": {},
   "outputs": [
    {
     "name": "stdout",
     "output_type": "stream",
     "text": [
      "tenure               int64\n",
      "InternetService      int64\n",
      "OnlineSecurity       int64\n",
      "TechSupport          int64\n",
      "Contract             int64\n",
      "PaymentMethod        int64\n",
      "MonthlyCharges     float64\n",
      "TotalCharges       float64\n",
      "Churn                int64\n",
      "dtype: object\n"
     ]
    }
   ],
   "source": [
    "print(dfA.dtypes)"
   ]
  },
  {
   "cell_type": "code",
   "execution_count": 20,
   "id": "d6984958-744d-4843-949a-e1dbeb4c6b9f",
   "metadata": {},
   "outputs": [],
   "source": [
    "dfA.to_csv('customer_churn_cleaned.csv', index=False)"
   ]
  },
  {
   "cell_type": "code",
   "execution_count": 21,
   "id": "47c4682f-42aa-4be5-ad1d-72714c3de39f",
   "metadata": {},
   "outputs": [],
   "source": [
    "dfA_cleaned = pd.read_csv('customer_churn_cleaned.csv')"
   ]
  },
  {
   "cell_type": "code",
   "execution_count": 22,
   "id": "7cc3a3c9-dbeb-4d9d-bdfe-beb3119b93b6",
   "metadata": {},
   "outputs": [
    {
     "name": "stdout",
     "output_type": "stream",
     "text": [
      "   tenure  InternetService  OnlineSecurity  TechSupport  Contract  \\\n",
      "0       1                0               0            0         0   \n",
      "1      34                0               1            0         1   \n",
      "2       2                0               1            0         0   \n",
      "3      45                0               1            1         1   \n",
      "4       2                1               0            0         0   \n",
      "\n",
      "   PaymentMethod  MonthlyCharges  TotalCharges  Churn  \n",
      "0              0           29.85         29.85      0  \n",
      "1              1           56.95       1889.50      0  \n",
      "2              1           53.85        108.15      1  \n",
      "3              2           42.30       1840.75      0  \n",
      "4              0           70.70        151.65      1  \n"
     ]
    }
   ],
   "source": [
    "print(dfA_cleaned.head())"
   ]
  },
  {
   "cell_type": "code",
   "execution_count": 14,
   "id": "18284ce1-b43e-4d86-9fcf-5a1e375474d2",
   "metadata": {},
   "outputs": [],
   "source": [
    "import pandas as pd\n",
    "dfB = pd.read_csv('customer_segmentation_cleaned.csv')"
   ]
  },
  {
   "cell_type": "code",
   "execution_count": 15,
   "id": "8f8b26e1-6d8c-496a-9f1b-7ebed4a19556",
   "metadata": {},
   "outputs": [
    {
     "name": "stdout",
     "output_type": "stream",
     "text": [
      "CustomerID        0\n",
      "Age               0\n",
      "Annual_Income     0\n",
      "Spending_Score    0\n",
      "dtype: int64\n"
     ]
    }
   ],
   "source": [
    "print(dfB.isnull().sum())"
   ]
  },
  {
   "cell_type": "code",
   "execution_count": 16,
   "id": "d4f7a30c-8d48-47fb-bc7b-26420ecd0c39",
   "metadata": {},
   "outputs": [
    {
     "name": "stdout",
     "output_type": "stream",
     "text": [
      "CustomerID        int64\n",
      "Age               int64\n",
      "Annual_Income     int64\n",
      "Spending_Score    int64\n",
      "dtype: object\n"
     ]
    }
   ],
   "source": [
    "print(dfB.dtypes)"
   ]
  },
  {
   "cell_type": "code",
   "execution_count": 17,
   "id": "86c2f774-5ed3-4656-a242-6be499ca176c",
   "metadata": {},
   "outputs": [],
   "source": [
    "dfB.rename(columns={'Spending Score':'TotalSpend'}, inplace=True)"
   ]
  },
  {
   "cell_type": "code",
   "execution_count": 18,
   "id": "eb8337f0-72dc-436e-a3c6-d29af221c6a9",
   "metadata": {},
   "outputs": [],
   "source": [
    "dfB.to_csv('customer_segmentation_cleaned.csv', index=False)"
   ]
  },
  {
   "cell_type": "code",
   "execution_count": 57,
   "id": "bd1b7133-c865-4ce2-8669-ca8842d8ecc8",
   "metadata": {},
   "outputs": [
    {
     "data": {
      "text/html": [
       "<div>\n",
       "<style scoped>\n",
       "    .dataframe tbody tr th:only-of-type {\n",
       "        vertical-align: middle;\n",
       "    }\n",
       "\n",
       "    .dataframe tbody tr th {\n",
       "        vertical-align: top;\n",
       "    }\n",
       "\n",
       "    .dataframe thead th {\n",
       "        text-align: right;\n",
       "    }\n",
       "</style>\n",
       "<table border=\"1\" class=\"dataframe\">\n",
       "  <thead>\n",
       "    <tr style=\"text-align: right;\">\n",
       "      <th></th>\n",
       "      <th>Age</th>\n",
       "      <th>Attrition</th>\n",
       "      <th>BusinessTravel</th>\n",
       "      <th>DailyRate</th>\n",
       "      <th>Department</th>\n",
       "      <th>DistanceFromHome</th>\n",
       "      <th>Education</th>\n",
       "      <th>EducationField</th>\n",
       "      <th>EmployeeCount</th>\n",
       "      <th>EmployeeNumber</th>\n",
       "      <th>...</th>\n",
       "      <th>RelationshipSatisfaction</th>\n",
       "      <th>StandardHours</th>\n",
       "      <th>StockOptionLevel</th>\n",
       "      <th>TotalWorkingYears</th>\n",
       "      <th>TrainingTimesLastYear</th>\n",
       "      <th>WorkLifeBalance</th>\n",
       "      <th>YearsAtCompany</th>\n",
       "      <th>YearsInCurrentRole</th>\n",
       "      <th>YearsSinceLastPromotion</th>\n",
       "      <th>YearsWithCurrManager</th>\n",
       "    </tr>\n",
       "  </thead>\n",
       "  <tbody>\n",
       "    <tr>\n",
       "      <th>0</th>\n",
       "      <td>41</td>\n",
       "      <td>Yes</td>\n",
       "      <td>Travel_Rarely</td>\n",
       "      <td>1102</td>\n",
       "      <td>Sales</td>\n",
       "      <td>1</td>\n",
       "      <td>2</td>\n",
       "      <td>Life Sciences</td>\n",
       "      <td>1</td>\n",
       "      <td>1</td>\n",
       "      <td>...</td>\n",
       "      <td>1</td>\n",
       "      <td>80</td>\n",
       "      <td>0</td>\n",
       "      <td>8</td>\n",
       "      <td>0</td>\n",
       "      <td>1</td>\n",
       "      <td>6</td>\n",
       "      <td>4</td>\n",
       "      <td>0</td>\n",
       "      <td>5</td>\n",
       "    </tr>\n",
       "    <tr>\n",
       "      <th>1</th>\n",
       "      <td>49</td>\n",
       "      <td>No</td>\n",
       "      <td>Travel_Frequently</td>\n",
       "      <td>279</td>\n",
       "      <td>Research &amp; Development</td>\n",
       "      <td>8</td>\n",
       "      <td>1</td>\n",
       "      <td>Life Sciences</td>\n",
       "      <td>1</td>\n",
       "      <td>2</td>\n",
       "      <td>...</td>\n",
       "      <td>4</td>\n",
       "      <td>80</td>\n",
       "      <td>1</td>\n",
       "      <td>10</td>\n",
       "      <td>3</td>\n",
       "      <td>3</td>\n",
       "      <td>10</td>\n",
       "      <td>7</td>\n",
       "      <td>1</td>\n",
       "      <td>7</td>\n",
       "    </tr>\n",
       "    <tr>\n",
       "      <th>2</th>\n",
       "      <td>37</td>\n",
       "      <td>Yes</td>\n",
       "      <td>Travel_Rarely</td>\n",
       "      <td>1373</td>\n",
       "      <td>Research &amp; Development</td>\n",
       "      <td>2</td>\n",
       "      <td>2</td>\n",
       "      <td>Other</td>\n",
       "      <td>1</td>\n",
       "      <td>4</td>\n",
       "      <td>...</td>\n",
       "      <td>2</td>\n",
       "      <td>80</td>\n",
       "      <td>0</td>\n",
       "      <td>7</td>\n",
       "      <td>3</td>\n",
       "      <td>3</td>\n",
       "      <td>0</td>\n",
       "      <td>0</td>\n",
       "      <td>0</td>\n",
       "      <td>0</td>\n",
       "    </tr>\n",
       "    <tr>\n",
       "      <th>3</th>\n",
       "      <td>33</td>\n",
       "      <td>No</td>\n",
       "      <td>Travel_Frequently</td>\n",
       "      <td>1392</td>\n",
       "      <td>Research &amp; Development</td>\n",
       "      <td>3</td>\n",
       "      <td>4</td>\n",
       "      <td>Life Sciences</td>\n",
       "      <td>1</td>\n",
       "      <td>5</td>\n",
       "      <td>...</td>\n",
       "      <td>3</td>\n",
       "      <td>80</td>\n",
       "      <td>0</td>\n",
       "      <td>8</td>\n",
       "      <td>3</td>\n",
       "      <td>3</td>\n",
       "      <td>8</td>\n",
       "      <td>7</td>\n",
       "      <td>3</td>\n",
       "      <td>0</td>\n",
       "    </tr>\n",
       "    <tr>\n",
       "      <th>4</th>\n",
       "      <td>27</td>\n",
       "      <td>No</td>\n",
       "      <td>Travel_Rarely</td>\n",
       "      <td>591</td>\n",
       "      <td>Research &amp; Development</td>\n",
       "      <td>2</td>\n",
       "      <td>1</td>\n",
       "      <td>Medical</td>\n",
       "      <td>1</td>\n",
       "      <td>7</td>\n",
       "      <td>...</td>\n",
       "      <td>4</td>\n",
       "      <td>80</td>\n",
       "      <td>1</td>\n",
       "      <td>6</td>\n",
       "      <td>3</td>\n",
       "      <td>3</td>\n",
       "      <td>2</td>\n",
       "      <td>2</td>\n",
       "      <td>2</td>\n",
       "      <td>2</td>\n",
       "    </tr>\n",
       "  </tbody>\n",
       "</table>\n",
       "<p>5 rows × 35 columns</p>\n",
       "</div>"
      ],
      "text/plain": [
       "   Age Attrition     BusinessTravel  DailyRate              Department  \\\n",
       "0   41       Yes      Travel_Rarely       1102                   Sales   \n",
       "1   49        No  Travel_Frequently        279  Research & Development   \n",
       "2   37       Yes      Travel_Rarely       1373  Research & Development   \n",
       "3   33        No  Travel_Frequently       1392  Research & Development   \n",
       "4   27        No      Travel_Rarely        591  Research & Development   \n",
       "\n",
       "   DistanceFromHome  Education EducationField  EmployeeCount  EmployeeNumber  \\\n",
       "0                 1          2  Life Sciences              1               1   \n",
       "1                 8          1  Life Sciences              1               2   \n",
       "2                 2          2          Other              1               4   \n",
       "3                 3          4  Life Sciences              1               5   \n",
       "4                 2          1        Medical              1               7   \n",
       "\n",
       "   ...  RelationshipSatisfaction StandardHours  StockOptionLevel  \\\n",
       "0  ...                         1            80                 0   \n",
       "1  ...                         4            80                 1   \n",
       "2  ...                         2            80                 0   \n",
       "3  ...                         3            80                 0   \n",
       "4  ...                         4            80                 1   \n",
       "\n",
       "   TotalWorkingYears  TrainingTimesLastYear WorkLifeBalance  YearsAtCompany  \\\n",
       "0                  8                      0               1               6   \n",
       "1                 10                      3               3              10   \n",
       "2                  7                      3               3               0   \n",
       "3                  8                      3               3               8   \n",
       "4                  6                      3               3               2   \n",
       "\n",
       "  YearsInCurrentRole  YearsSinceLastPromotion  YearsWithCurrManager  \n",
       "0                  4                        0                     5  \n",
       "1                  7                        1                     7  \n",
       "2                  0                        0                     0  \n",
       "3                  7                        3                     0  \n",
       "4                  2                        2                     2  \n",
       "\n",
       "[5 rows x 35 columns]"
      ]
     },
     "execution_count": 57,
     "metadata": {},
     "output_type": "execute_result"
    }
   ],
   "source": [
    "import pandas as pd\n",
    "df2 = pd.read_csv(\"C:/Users/Hp/OneDrive/Documents/10th sem project full/datasets for the project/Employee attrition data(to predict which employees might leave the company).csv\")\n",
    "df2.head()"
   ]
  },
  {
   "cell_type": "code",
   "execution_count": 58,
   "id": "c162eaf7-d297-4f17-9923-efb15edafbb7",
   "metadata": {},
   "outputs": [],
   "source": [
    "df2 = df2.drop(columns=[\"BusinessTravel\", \"DailyRate\", \"DistanceFromHome\", \"Education\", \"EducationField\", \"EmployeeCount\", \"EmployeeNumber\", \"Gender\", \"HourlyRate\", \"JobInvolvement\", \"JobLevel\", \"MaritalStatus\", \"MonthlyRate\", \"NumCompaniesWorked\", \"Over18\", \"PercentSalaryHike\", \"PerformanceRating\", \"RelationshipSatisfaction\", \"StandardHours\", \"StockOptionLevel\", \"TotalWorkingYears\", \"TrainingTimesLastYear\", \"YearsInCurrentRole\", \"YearsSinceLastPromotion\", \"YearsWithCurrManager\"])"
   ]
  },
  {
   "cell_type": "code",
   "execution_count": 59,
   "id": "12d1ccec-eddc-470d-8406-af35c77e19e5",
   "metadata": {},
   "outputs": [],
   "source": [
    "df2.to_csv(\"employee_attrition_cleaned.csv\", index=False)"
   ]
  },
  {
   "cell_type": "code",
   "execution_count": 60,
   "id": "e8772bcc-6f6e-49a2-a50e-69aaa99e663c",
   "metadata": {},
   "outputs": [
    {
     "data": {
      "text/html": [
       "<div>\n",
       "<style scoped>\n",
       "    .dataframe tbody tr th:only-of-type {\n",
       "        vertical-align: middle;\n",
       "    }\n",
       "\n",
       "    .dataframe tbody tr th {\n",
       "        vertical-align: top;\n",
       "    }\n",
       "\n",
       "    .dataframe thead th {\n",
       "        text-align: right;\n",
       "    }\n",
       "</style>\n",
       "<table border=\"1\" class=\"dataframe\">\n",
       "  <thead>\n",
       "    <tr style=\"text-align: right;\">\n",
       "      <th></th>\n",
       "      <th>CustomerID</th>\n",
       "      <th>Age</th>\n",
       "      <th>Annual_Income</th>\n",
       "      <th>Spending_Score</th>\n",
       "    </tr>\n",
       "  </thead>\n",
       "  <tbody>\n",
       "    <tr>\n",
       "      <th>0</th>\n",
       "      <td>1</td>\n",
       "      <td>19</td>\n",
       "      <td>15</td>\n",
       "      <td>39</td>\n",
       "    </tr>\n",
       "    <tr>\n",
       "      <th>1</th>\n",
       "      <td>2</td>\n",
       "      <td>21</td>\n",
       "      <td>15</td>\n",
       "      <td>81</td>\n",
       "    </tr>\n",
       "    <tr>\n",
       "      <th>2</th>\n",
       "      <td>3</td>\n",
       "      <td>20</td>\n",
       "      <td>16</td>\n",
       "      <td>6</td>\n",
       "    </tr>\n",
       "    <tr>\n",
       "      <th>3</th>\n",
       "      <td>4</td>\n",
       "      <td>23</td>\n",
       "      <td>16</td>\n",
       "      <td>77</td>\n",
       "    </tr>\n",
       "    <tr>\n",
       "      <th>4</th>\n",
       "      <td>5</td>\n",
       "      <td>31</td>\n",
       "      <td>17</td>\n",
       "      <td>40</td>\n",
       "    </tr>\n",
       "  </tbody>\n",
       "</table>\n",
       "</div>"
      ],
      "text/plain": [
       "   CustomerID  Age  Annual_Income  Spending_Score\n",
       "0           1   19             15              39\n",
       "1           2   21             15              81\n",
       "2           3   20             16               6\n",
       "3           4   23             16              77\n",
       "4           5   31             17              40"
      ]
     },
     "execution_count": 60,
     "metadata": {},
     "output_type": "execute_result"
    }
   ],
   "source": [
    "dfB.head()"
   ]
  },
  {
   "cell_type": "code",
   "execution_count": 61,
   "id": "1f9991a8-5d04-41b0-b248-0a7d70185e66",
   "metadata": {},
   "outputs": [
    {
     "name": "stdout",
     "output_type": "stream",
     "text": [
      "   Age Attrition              Department  EnvironmentSatisfaction  \\\n",
      "0   41       Yes                   Sales                        2   \n",
      "1   49        No  Research & Development                        3   \n",
      "2   37       Yes  Research & Development                        4   \n",
      "3   33        No  Research & Development                        4   \n",
      "4   27        No  Research & Development                        1   \n",
      "\n",
      "                 JobRole  JobSatisfaction  MonthlyIncome OverTime  \\\n",
      "0        Sales Executive                4           5993      Yes   \n",
      "1     Research Scientist                2           5130       No   \n",
      "2  Laboratory Technician                3           2090      Yes   \n",
      "3     Research Scientist                3           2909      Yes   \n",
      "4  Laboratory Technician                2           3468       No   \n",
      "\n",
      "   WorkLifeBalance  YearsAtCompany  \n",
      "0                1               6  \n",
      "1                3              10  \n",
      "2                3               0  \n",
      "3                3               8  \n",
      "4                3               2  \n"
     ]
    }
   ],
   "source": [
    "dfC = pd.read_csv(\"employee_attrition_cleaned.csv\")\n",
    "print(dfC.head())"
   ]
  },
  {
   "cell_type": "code",
   "execution_count": 62,
   "id": "bbe18b64-ee95-4abe-88ab-41ae33a91aaa",
   "metadata": {},
   "outputs": [
    {
     "name": "stdout",
     "output_type": "stream",
     "text": [
      "Age                        0\n",
      "Attrition                  0\n",
      "Department                 0\n",
      "EnvironmentSatisfaction    0\n",
      "JobRole                    0\n",
      "JobSatisfaction            0\n",
      "MonthlyIncome              0\n",
      "OverTime                   0\n",
      "WorkLifeBalance            0\n",
      "YearsAtCompany             0\n",
      "dtype: int64\n"
     ]
    }
   ],
   "source": [
    "print(dfC.isnull().sum())"
   ]
  },
  {
   "cell_type": "code",
   "execution_count": 63,
   "id": "9e6ea19d-8675-441d-9afe-1bd41661a8b0",
   "metadata": {},
   "outputs": [],
   "source": [
    "dfC['OverTime'] = dfC['OverTime'].map({'No': 0, 'Yes': 1})"
   ]
  },
  {
   "cell_type": "code",
   "execution_count": 64,
   "id": "7d4213b0-c669-49d8-9a3c-32f11e811dba",
   "metadata": {},
   "outputs": [],
   "source": [
    "dfC['Department'] = dfC['Department'].map({'Sales':0, 'Research & Development':1, 'Human Resources':2})"
   ]
  },
  {
   "cell_type": "code",
   "execution_count": 65,
   "id": "1e51324b-4b56-4730-9b7b-17b4255fcb8c",
   "metadata": {},
   "outputs": [
    {
     "data": {
      "text/plain": [
       "array(['Sales Executive', 'Research Scientist', 'Laboratory Technician',\n",
       "       'Manufacturing Director', 'Healthcare Representative', 'Manager',\n",
       "       'Sales Representative', 'Research Director', 'Human Resources'],\n",
       "      dtype=object)"
      ]
     },
     "execution_count": 65,
     "metadata": {},
     "output_type": "execute_result"
    }
   ],
   "source": [
    "dfC['JobRole'].unique()"
   ]
  },
  {
   "cell_type": "code",
   "execution_count": 66,
   "id": "274ab748-baeb-42bb-93f0-03cf27ac1c31",
   "metadata": {},
   "outputs": [],
   "source": [
    "dfC['JobRole'] = dfC['JobRole'].map({'Sales Executive':0, 'Research Scientist':1, 'Laboratory Technician':2, 'Manufacturing Director':3, 'Healthcare Representative':4, 'Manager':5, 'Sales Representative':6, 'Research Director':7, 'Human Resources':8})"
   ]
  },
  {
   "cell_type": "code",
   "execution_count": 67,
   "id": "0d141df8-22cd-4b84-baa8-bc178b95891f",
   "metadata": {},
   "outputs": [],
   "source": [
    "dfC['Attrition'] = dfC['Attrition'].map({'No': 0, 'Yes': 1})"
   ]
  },
  {
   "cell_type": "code",
   "execution_count": 68,
   "id": "22022b79-e7aa-4618-b6b0-564d32f66075",
   "metadata": {},
   "outputs": [
    {
     "name": "stdout",
     "output_type": "stream",
     "text": [
      "Age                        int64\n",
      "Attrition                  int64\n",
      "Department                 int64\n",
      "EnvironmentSatisfaction    int64\n",
      "JobRole                    int64\n",
      "JobSatisfaction            int64\n",
      "MonthlyIncome              int64\n",
      "OverTime                   int64\n",
      "WorkLifeBalance            int64\n",
      "YearsAtCompany             int64\n",
      "dtype: object\n"
     ]
    }
   ],
   "source": [
    "print(dfC.dtypes)"
   ]
  },
  {
   "cell_type": "code",
   "execution_count": 69,
   "id": "4524b0ce-0cdd-4d35-adf5-39aa53944d76",
   "metadata": {},
   "outputs": [
    {
     "name": "stdout",
     "output_type": "stream",
     "text": [
      "    Age  Attrition  Department  EnvironmentSatisfaction  JobRole  \\\n",
      "0    41          1           0                        2        0   \n",
      "1    49          0           1                        3        1   \n",
      "2    37          1           1                        4        2   \n",
      "3    33          0           1                        4        1   \n",
      "4    27          0           1                        1        2   \n",
      "5    32          0           1                        4        2   \n",
      "6    59          0           1                        3        2   \n",
      "7    30          0           1                        4        2   \n",
      "8    38          0           1                        4        3   \n",
      "9    36          0           1                        3        4   \n",
      "10   35          0           1                        1        2   \n",
      "11   29          0           1                        4        2   \n",
      "12   31          0           1                        1        1   \n",
      "13   34          0           1                        2        2   \n",
      "14   28          1           1                        3        2   \n",
      "15   29          0           1                        2        3   \n",
      "16   32          0           1                        1        1   \n",
      "17   22          0           1                        4        2   \n",
      "18   53          0           0                        1        5   \n",
      "19   38          0           1                        4        1   \n",
      "\n",
      "    JobSatisfaction  MonthlyIncome  OverTime  WorkLifeBalance  YearsAtCompany  \n",
      "0                 4           5993         1                1               6  \n",
      "1                 2           5130         0                3              10  \n",
      "2                 3           2090         1                3               0  \n",
      "3                 3           2909         1                3               8  \n",
      "4                 2           3468         0                3               2  \n",
      "5                 4           3068         0                2               7  \n",
      "6                 1           2670         1                2               1  \n",
      "7                 3           2693         0                3               1  \n",
      "8                 3           9526         0                3               9  \n",
      "9                 3           5237         0                2               7  \n",
      "10                2           2426         0                3               5  \n",
      "11                3           4193         1                3               9  \n",
      "12                3           2911         0                2               5  \n",
      "13                4           2661         0                3               2  \n",
      "14                3           2028         1                3               4  \n",
      "15                1           9980         0                3              10  \n",
      "16                2           3298         1                2               6  \n",
      "17                4           2935         1                2               1  \n",
      "18                4          15427         0                3              25  \n",
      "19                4           3944         1                3               3  \n"
     ]
    }
   ],
   "source": [
    "print(dfC.head(20))"
   ]
  },
  {
   "cell_type": "code",
   "execution_count": 70,
   "id": "6895e077-9fea-428c-8191-73d18f0601d4",
   "metadata": {},
   "outputs": [],
   "source": [
    "dfC.to_csv('employee_attrition_cleaned.csv', index=False)"
   ]
  },
  {
   "cell_type": "code",
   "execution_count": 71,
   "id": "c5ba6fc3-347c-4dbd-912f-7fa16d2400b1",
   "metadata": {},
   "outputs": [],
   "source": [
    "dfC_cleaned = pd.read_csv('employee_attrition_cleaned.csv')"
   ]
  },
  {
   "cell_type": "code",
   "execution_count": 72,
   "id": "b0fe1ff7-6132-4324-9635-a286b134d3a9",
   "metadata": {},
   "outputs": [
    {
     "name": "stdout",
     "output_type": "stream",
     "text": [
      "[0 1 2]\n",
      "[0 1 2 3 4 5 6 7 8]\n"
     ]
    }
   ],
   "source": [
    "print(dfC['Department'].unique())\n",
    "print(dfC['JobRole'].unique())"
   ]
  },
  {
   "cell_type": "code",
   "execution_count": 13,
   "id": "cf7a3a90-41e4-4729-b313-179c4b1abb2e",
   "metadata": {},
   "outputs": [],
   "source": [
    "import pandas as pd\n",
    "dfD = pd.read_csv('sales_forecasting_cleaned.csv')"
   ]
  },
  {
   "cell_type": "code",
   "execution_count": 14,
   "id": "64ff36be-1bf1-4558-88a7-fd9e1025a29b",
   "metadata": {},
   "outputs": [
    {
     "name": "stdout",
     "output_type": "stream",
     "text": [
      "Date                 0\n",
      "Store ID             0\n",
      "Product ID           0\n",
      "Inventory Level      0\n",
      "Units Sold           0\n",
      "Price                0\n",
      "Discount             0\n",
      "Holiday/Promotion    0\n",
      "sales                0\n",
      "stock_available      0\n",
      "dtype: int64\n"
     ]
    }
   ],
   "source": [
    "print(dfD.isnull().sum())"
   ]
  },
  {
   "cell_type": "code",
   "execution_count": 15,
   "id": "63f7e596-ef50-4888-aecd-b1b7490c8468",
   "metadata": {},
   "outputs": [
    {
     "name": "stdout",
     "output_type": "stream",
     "text": [
      "Date                  object\n",
      "Store ID              object\n",
      "Product ID            object\n",
      "Inventory Level        int64\n",
      "Units Sold             int64\n",
      "Price                float64\n",
      "Discount               int64\n",
      "Holiday/Promotion      int64\n",
      "sales                float64\n",
      "stock_available        int64\n",
      "dtype: object\n"
     ]
    }
   ],
   "source": [
    "print(dfD.dtypes)"
   ]
  },
  {
   "cell_type": "code",
   "execution_count": 8,
   "id": "65b96bbf-2d99-4413-aa0a-7f65c77f0626",
   "metadata": {},
   "outputs": [
    {
     "data": {
      "text/html": [
       "<div>\n",
       "<style scoped>\n",
       "    .dataframe tbody tr th:only-of-type {\n",
       "        vertical-align: middle;\n",
       "    }\n",
       "\n",
       "    .dataframe tbody tr th {\n",
       "        vertical-align: top;\n",
       "    }\n",
       "\n",
       "    .dataframe thead th {\n",
       "        text-align: right;\n",
       "    }\n",
       "</style>\n",
       "<table border=\"1\" class=\"dataframe\">\n",
       "  <thead>\n",
       "    <tr style=\"text-align: right;\">\n",
       "      <th></th>\n",
       "      <th>Date</th>\n",
       "      <th>Store ID</th>\n",
       "      <th>Product ID</th>\n",
       "      <th>Inventory Level</th>\n",
       "      <th>Units Sold</th>\n",
       "      <th>Price</th>\n",
       "      <th>Discount</th>\n",
       "      <th>Holiday/Promotion</th>\n",
       "      <th>sales</th>\n",
       "      <th>stock_available</th>\n",
       "    </tr>\n",
       "  </thead>\n",
       "  <tbody>\n",
       "    <tr>\n",
       "      <th>0</th>\n",
       "      <td>2022-01-01</td>\n",
       "      <td>S001</td>\n",
       "      <td>P0001</td>\n",
       "      <td>231</td>\n",
       "      <td>127</td>\n",
       "      <td>33.50</td>\n",
       "      <td>20</td>\n",
       "      <td>0</td>\n",
       "      <td>4254.50</td>\n",
       "      <td>1</td>\n",
       "    </tr>\n",
       "    <tr>\n",
       "      <th>1</th>\n",
       "      <td>2022-01-01</td>\n",
       "      <td>S001</td>\n",
       "      <td>P0002</td>\n",
       "      <td>204</td>\n",
       "      <td>150</td>\n",
       "      <td>63.01</td>\n",
       "      <td>20</td>\n",
       "      <td>0</td>\n",
       "      <td>9451.50</td>\n",
       "      <td>1</td>\n",
       "    </tr>\n",
       "    <tr>\n",
       "      <th>2</th>\n",
       "      <td>2022-01-01</td>\n",
       "      <td>S001</td>\n",
       "      <td>P0003</td>\n",
       "      <td>102</td>\n",
       "      <td>65</td>\n",
       "      <td>27.99</td>\n",
       "      <td>10</td>\n",
       "      <td>1</td>\n",
       "      <td>1819.35</td>\n",
       "      <td>1</td>\n",
       "    </tr>\n",
       "    <tr>\n",
       "      <th>3</th>\n",
       "      <td>2022-01-01</td>\n",
       "      <td>S001</td>\n",
       "      <td>P0004</td>\n",
       "      <td>469</td>\n",
       "      <td>61</td>\n",
       "      <td>32.72</td>\n",
       "      <td>10</td>\n",
       "      <td>1</td>\n",
       "      <td>1995.92</td>\n",
       "      <td>1</td>\n",
       "    </tr>\n",
       "    <tr>\n",
       "      <th>4</th>\n",
       "      <td>2022-01-01</td>\n",
       "      <td>S001</td>\n",
       "      <td>P0005</td>\n",
       "      <td>166</td>\n",
       "      <td>14</td>\n",
       "      <td>73.64</td>\n",
       "      <td>0</td>\n",
       "      <td>0</td>\n",
       "      <td>1030.96</td>\n",
       "      <td>1</td>\n",
       "    </tr>\n",
       "  </tbody>\n",
       "</table>\n",
       "</div>"
      ],
      "text/plain": [
       "         Date Store ID Product ID  Inventory Level  Units Sold  Price  \\\n",
       "0  2022-01-01     S001      P0001              231         127  33.50   \n",
       "1  2022-01-01     S001      P0002              204         150  63.01   \n",
       "2  2022-01-01     S001      P0003              102          65  27.99   \n",
       "3  2022-01-01     S001      P0004              469          61  32.72   \n",
       "4  2022-01-01     S001      P0005              166          14  73.64   \n",
       "\n",
       "   Discount  Holiday/Promotion    sales  stock_available  \n",
       "0        20                  0  4254.50                1  \n",
       "1        20                  0  9451.50                1  \n",
       "2        10                  1  1819.35                1  \n",
       "3        10                  1  1995.92                1  \n",
       "4         0                  0  1030.96                1  "
      ]
     },
     "execution_count": 8,
     "metadata": {},
     "output_type": "execute_result"
    }
   ],
   "source": [
    "dfD.head()"
   ]
  },
  {
   "cell_type": "code",
   "execution_count": 16,
   "id": "b56e8b08-b830-4623-bdd0-6f24fcd744b0",
   "metadata": {},
   "outputs": [],
   "source": [
    "dfD['Date'] =  pd.to_datetime(dfD['Date'], format='%Y-%m-%d')"
   ]
  },
  {
   "cell_type": "code",
   "execution_count": 19,
   "id": "85e6110f-4ba7-4cd0-aab0-78136349a56d",
   "metadata": {},
   "outputs": [],
   "source": [
    "dfD.to_csv('sales_forecasting_cleaned.csv', index=False)"
   ]
  },
  {
   "cell_type": "code",
   "execution_count": 22,
   "id": "7d050cef-8e50-47a7-94af-b182fd0b1cfe",
   "metadata": {},
   "outputs": [],
   "source": [
    "dfD_cleaned = pd.read_csv('sales_forecasting_cleaned.csv')"
   ]
  },
  {
   "cell_type": "code",
   "execution_count": 23,
   "id": "73e0a2f8-3e1b-465f-b2a5-ae06ed2ff109",
   "metadata": {},
   "outputs": [
    {
     "data": {
      "text/html": [
       "<div>\n",
       "<style scoped>\n",
       "    .dataframe tbody tr th:only-of-type {\n",
       "        vertical-align: middle;\n",
       "    }\n",
       "\n",
       "    .dataframe tbody tr th {\n",
       "        vertical-align: top;\n",
       "    }\n",
       "\n",
       "    .dataframe thead th {\n",
       "        text-align: right;\n",
       "    }\n",
       "</style>\n",
       "<table border=\"1\" class=\"dataframe\">\n",
       "  <thead>\n",
       "    <tr style=\"text-align: right;\">\n",
       "      <th></th>\n",
       "      <th>Date</th>\n",
       "      <th>Store ID</th>\n",
       "      <th>Product ID</th>\n",
       "      <th>Inventory Level</th>\n",
       "      <th>Units Sold</th>\n",
       "      <th>Price</th>\n",
       "      <th>Discount</th>\n",
       "      <th>Holiday/Promotion</th>\n",
       "      <th>sales</th>\n",
       "      <th>stock_available</th>\n",
       "    </tr>\n",
       "  </thead>\n",
       "  <tbody>\n",
       "    <tr>\n",
       "      <th>0</th>\n",
       "      <td>2022-01-01</td>\n",
       "      <td>0</td>\n",
       "      <td>0</td>\n",
       "      <td>231</td>\n",
       "      <td>127</td>\n",
       "      <td>33.50</td>\n",
       "      <td>20</td>\n",
       "      <td>0</td>\n",
       "      <td>4254.50</td>\n",
       "      <td>1</td>\n",
       "    </tr>\n",
       "    <tr>\n",
       "      <th>1</th>\n",
       "      <td>2022-01-01</td>\n",
       "      <td>0</td>\n",
       "      <td>1</td>\n",
       "      <td>204</td>\n",
       "      <td>150</td>\n",
       "      <td>63.01</td>\n",
       "      <td>20</td>\n",
       "      <td>0</td>\n",
       "      <td>9451.50</td>\n",
       "      <td>1</td>\n",
       "    </tr>\n",
       "    <tr>\n",
       "      <th>2</th>\n",
       "      <td>2022-01-01</td>\n",
       "      <td>0</td>\n",
       "      <td>2</td>\n",
       "      <td>102</td>\n",
       "      <td>65</td>\n",
       "      <td>27.99</td>\n",
       "      <td>10</td>\n",
       "      <td>1</td>\n",
       "      <td>1819.35</td>\n",
       "      <td>1</td>\n",
       "    </tr>\n",
       "    <tr>\n",
       "      <th>3</th>\n",
       "      <td>2022-01-01</td>\n",
       "      <td>0</td>\n",
       "      <td>3</td>\n",
       "      <td>469</td>\n",
       "      <td>61</td>\n",
       "      <td>32.72</td>\n",
       "      <td>10</td>\n",
       "      <td>1</td>\n",
       "      <td>1995.92</td>\n",
       "      <td>1</td>\n",
       "    </tr>\n",
       "    <tr>\n",
       "      <th>4</th>\n",
       "      <td>2022-01-01</td>\n",
       "      <td>0</td>\n",
       "      <td>4</td>\n",
       "      <td>166</td>\n",
       "      <td>14</td>\n",
       "      <td>73.64</td>\n",
       "      <td>0</td>\n",
       "      <td>0</td>\n",
       "      <td>1030.96</td>\n",
       "      <td>1</td>\n",
       "    </tr>\n",
       "  </tbody>\n",
       "</table>\n",
       "</div>"
      ],
      "text/plain": [
       "        Date  Store ID  Product ID  Inventory Level  Units Sold  Price  \\\n",
       "0 2022-01-01         0           0              231         127  33.50   \n",
       "1 2022-01-01         0           1              204         150  63.01   \n",
       "2 2022-01-01         0           2              102          65  27.99   \n",
       "3 2022-01-01         0           3              469          61  32.72   \n",
       "4 2022-01-01         0           4              166          14  73.64   \n",
       "\n",
       "   Discount  Holiday/Promotion    sales  stock_available  \n",
       "0        20                  0  4254.50                1  \n",
       "1        20                  0  9451.50                1  \n",
       "2        10                  1  1819.35                1  \n",
       "3        10                  1  1995.92                1  \n",
       "4         0                  0  1030.96                1  "
      ]
     },
     "execution_count": 23,
     "metadata": {},
     "output_type": "execute_result"
    }
   ],
   "source": [
    "dfD.head()"
   ]
  },
  {
   "cell_type": "code",
   "execution_count": 18,
   "id": "f6efef03-5911-4a71-bee9-500b0751f62e",
   "metadata": {},
   "outputs": [],
   "source": [
    "dfD['Store ID'] = dfD['Store ID'].astype('category').cat.codes\n",
    "dfD['Product ID'] = dfD['Product ID'].astype('category').cat.codes"
   ]
  },
  {
   "cell_type": "code",
   "execution_count": 21,
   "id": "fdc1ad72-9a70-485f-8259-c9751073ba54",
   "metadata": {},
   "outputs": [
    {
     "data": {
      "text/plain": [
       "Date                 datetime64[ns]\n",
       "Store ID                       int8\n",
       "Product ID                     int8\n",
       "Inventory Level               int64\n",
       "Units Sold                    int64\n",
       "Price                       float64\n",
       "Discount                      int64\n",
       "Holiday/Promotion             int64\n",
       "sales                       float64\n",
       "stock_available               int64\n",
       "dtype: object"
      ]
     },
     "execution_count": 21,
     "metadata": {},
     "output_type": "execute_result"
    }
   ],
   "source": [
    "dfD.dtypes"
   ]
  },
  {
   "cell_type": "code",
   "execution_count": 87,
   "id": "932bd6c0-8b50-4498-9fdd-e1b3f6267884",
   "metadata": {},
   "outputs": [
    {
     "name": "stdout",
     "output_type": "stream",
     "text": [
      "   tenure  InternetService  OnlineSecurity  TechSupport  Contract  \\\n",
      "0       1                0               0            0         0   \n",
      "1      34                0               1            0         1   \n",
      "2       2                0               1            0         0   \n",
      "3      45                0               1            1         1   \n",
      "4       2                1               0            0         0   \n",
      "\n",
      "   PaymentMethod  MonthlyCharges  TotalCharges  Churn  \n",
      "0              0           29.85         29.85      0  \n",
      "1              1           56.95       1889.50      0  \n",
      "2              1           53.85        108.15      1  \n",
      "3              2           42.30       1840.75      0  \n",
      "4              0           70.70        151.65      1  \n"
     ]
    }
   ],
   "source": [
    "import pandas as pd\n",
    "dfW = pd.read_csv('customer_churn_cleaned.csv')\n",
    "print(dfW.head())"
   ]
  },
  {
   "cell_type": "code",
   "execution_count": 45,
   "id": "44f92741-362d-4786-9602-3f44d7302487",
   "metadata": {},
   "outputs": [],
   "source": [
    "X = dfW.drop('Churn', axis =1)\n",
    "y = dfW['Churn']"
   ]
  },
  {
   "cell_type": "code",
   "execution_count": 46,
   "id": "f2de605f-9384-4561-b24a-3dd1ed797088",
   "metadata": {},
   "outputs": [
    {
     "name": "stdout",
     "output_type": "stream",
     "text": [
      "Features (X):\n",
      "   tenure  InternetService  OnlineSecurity  TechSupport  Contract  \\\n",
      "0       1                0               0            0         0   \n",
      "1      34                0               1            0         1   \n",
      "2       2                0               1            0         0   \n",
      "3      45                0               1            1         1   \n",
      "4       2                1               0            0         0   \n",
      "\n",
      "   PaymentMethod  MonthlyCharges  TotalCharges  \n",
      "0              0           29.85         29.85  \n",
      "1              1           56.95       1889.50  \n",
      "2              1           53.85        108.15  \n",
      "3              2           42.30       1840.75  \n",
      "4              0           70.70        151.65  \n"
     ]
    }
   ],
   "source": [
    "print(\"Features (X):\")\n",
    "print(X.head())"
   ]
  },
  {
   "cell_type": "code",
   "execution_count": 47,
   "id": "06816c7a-bf02-472d-bfdb-7e2dba7c7aee",
   "metadata": {},
   "outputs": [
    {
     "name": "stdout",
     "output_type": "stream",
     "text": [
      "\n",
      "Target (y):\n",
      "0    0\n",
      "1    0\n",
      "2    1\n",
      "3    0\n",
      "4    1\n",
      "Name: Churn, dtype: int64\n"
     ]
    }
   ],
   "source": [
    "print(\"\\nTarget (y):\")\n",
    "print(y.head())"
   ]
  },
  {
   "cell_type": "code",
   "execution_count": 51,
   "id": "7201aa8d-163b-43f7-8f54-118641d62015",
   "metadata": {},
   "outputs": [
    {
     "name": "stdout",
     "output_type": "stream",
     "text": [
      "int64\n",
      "[0 1]\n"
     ]
    }
   ],
   "source": [
    "print(y.dtype)\n",
    "print(y.unique())"
   ]
  },
  {
   "cell_type": "code",
   "execution_count": 52,
   "id": "f78110d6-ee82-4bb0-a4fc-54e1b697ffb4",
   "metadata": {},
   "outputs": [
    {
     "name": "stdout",
     "output_type": "stream",
     "text": [
      "tenure               int64\n",
      "InternetService      int64\n",
      "OnlineSecurity       int64\n",
      "TechSupport          int64\n",
      "Contract             int64\n",
      "PaymentMethod        int64\n",
      "MonthlyCharges     float64\n",
      "TotalCharges       float64\n",
      "dtype: object\n"
     ]
    }
   ],
   "source": [
    "print(X.dtypes)"
   ]
  },
  {
   "cell_type": "code",
   "execution_count": 53,
   "id": "94ab6206-62f1-47f3-b8ba-a8242dbca2ae",
   "metadata": {},
   "outputs": [
    {
     "name": "stdout",
     "output_type": "stream",
     "text": [
      "tenure             0\n",
      "InternetService    0\n",
      "OnlineSecurity     0\n",
      "TechSupport        0\n",
      "Contract           0\n",
      "PaymentMethod      0\n",
      "MonthlyCharges     0\n",
      "TotalCharges       0\n",
      "dtype: int64\n",
      "0\n"
     ]
    }
   ],
   "source": [
    "print(X.isnull().sum())\n",
    "print(y.isnull().sum())"
   ]
  },
  {
   "cell_type": "code",
   "execution_count": 54,
   "id": "87edbd83-331e-442a-87fc-edb71ad41691",
   "metadata": {},
   "outputs": [
    {
     "name": "stdout",
     "output_type": "stream",
     "text": [
      "Decision Tree Accuracy: 0.7242359630419332\n",
      "Confusion Matrix:\n",
      " [[828 205]\n",
      " [183 191]]\n",
      "Classification Report:\n",
      "               precision    recall  f1-score   support\n",
      "\n",
      "           0       0.82      0.80      0.81      1033\n",
      "           1       0.48      0.51      0.50       374\n",
      "\n",
      "    accuracy                           0.72      1407\n",
      "   macro avg       0.65      0.66      0.65      1407\n",
      "weighted avg       0.73      0.72      0.73      1407\n",
      "\n"
     ]
    }
   ],
   "source": [
    "from sklearn.tree import DecisionTreeClassifier\n",
    "from sklearn.metrics import accuracy_score, classification_report, confusion_matrix\n",
    "from sklearn.model_selection import train_test_split\n",
    "X_train, X_test, y_train, y_test = train_test_split(X, y, test_size=0.2, random_state=42)\n",
    "dt_model = DecisionTreeClassifier()\n",
    "dt_model.fit(X_train, y_train)\n",
    "y_pred_dt = dt_model.predict(X_test)\n",
    "print(\"Decision Tree Accuracy:\", accuracy_score(y_test, y_pred_dt))\n",
    "print(\"Confusion Matrix:\\n\", confusion_matrix(y_test, y_pred_dt))\n",
    "print(\"Classification Report:\\n\", classification_report(y_test, y_pred_dt))"
   ]
  },
  {
   "cell_type": "code",
   "execution_count": 55,
   "id": "7f9a03cb-9037-456c-9eed-d63e4735b6ba",
   "metadata": {},
   "outputs": [
    {
     "name": "stdout",
     "output_type": "stream",
     "text": [
      "Random Forest Accuracy: 0.7697228144989339\n",
      "Confusion Matrix:\n",
      " [[911 122]\n",
      " [202 172]]\n",
      "Classification Report:\n",
      "               precision    recall  f1-score   support\n",
      "\n",
      "           0       0.82      0.88      0.85      1033\n",
      "           1       0.59      0.46      0.51       374\n",
      "\n",
      "    accuracy                           0.77      1407\n",
      "   macro avg       0.70      0.67      0.68      1407\n",
      "weighted avg       0.76      0.77      0.76      1407\n",
      "\n"
     ]
    }
   ],
   "source": [
    "from sklearn.ensemble import RandomForestClassifier\n",
    "rf_model = RandomForestClassifier()\n",
    "rf_model.fit(X_train, y_train)\n",
    "y_pred_rf = rf_model.predict(X_test)\n",
    "print(\"Random Forest Accuracy:\", accuracy_score(y_test, y_pred_rf))\n",
    "print(\"Confusion Matrix:\\n\", confusion_matrix(y_test, y_pred_rf))\n",
    "print(\"Classification Report:\\n\", classification_report(y_test, y_pred_rf))"
   ]
  },
  {
   "cell_type": "code",
   "execution_count": 57,
   "id": "121cd67b-bf70-4d82-b6dc-699dc3bbbe17",
   "metadata": {},
   "outputs": [
    {
     "data": {
      "image/png": "[encoded data removed]",
      "text/plain": [
       "<Figure size 600x400 with 2 Axes>"
      ]
     },
     "metadata": {},
     "output_type": "display_data"
    }
   ],
   "source": [
    "import seaborn as sns\n",
    "import matplotlib.pyplot as plt\n",
    "from sklearn.metrics import confusion_matrix\n",
    "\n",
    "cm_dt = confusion_matrix(y_test, y_pred_dt)\n",
    "plt.figure(figsize=(6, 4))\n",
    "sns.heatmap(cm_dt, annot=True, fmt='d', cmap='Blues', xticklabels=['No Churn', 'Churn'], yticklabels=['No Churn', 'Churn'])\n",
    "plt.title(\"Decision Tree - Confusion Matrix\")\n",
    "plt.xlabel(\"Predicted\")\n",
    "plt.ylabel(\"Actual\")\n",
    "plt.show()"
   ]
  },
  {
   "cell_type": "code",
   "execution_count": 58,
   "id": "c0b4aed6-324e-414e-a1ee-ea0382828555",
   "metadata": {},
   "outputs": [
    {
     "data": {
      "image/png": "[encoded data removed]",
      "text/plain": [
       "<Figure size 600x400 with 2 Axes>"
      ]
     },
     "metadata": {},
     "output_type": "display_data"
    }
   ],
   "source": [
    "cm_rf = confusion_matrix(y_test, y_pred_rf)\n",
    "plt.figure(figsize=(6, 4))\n",
    "sns.heatmap(cm_rf, annot=True, fmt='d', cmap='Greens', xticklabels=['No Churn', 'Churn'], yticklabels=['No Churn', 'Churn'])\n",
    "plt.title(\"Random Forest - Confusion Matrix\")\n",
    "plt.xlabel(\"Predicted\")\n",
    "plt.ylabel(\"Actual\")\n",
    "plt.show()"
   ]
  },
  {
   "cell_type": "code",
   "execution_count": 59,
   "id": "4632ad7c-3914-42ff-b364-cfe6d96e0149",
   "metadata": {},
   "outputs": [
    {
     "name": "stdout",
     "output_type": "stream",
     "text": [
      "           Feature  Importance\n",
      "7     TotalCharges    0.273250\n",
      "6   MonthlyCharges    0.268658\n",
      "0           tenure    0.187462\n",
      "4         Contract    0.085132\n",
      "5    PaymentMethod    0.061361\n",
      "2   OnlineSecurity    0.047426\n",
      "3      TechSupport    0.047251\n",
      "1  InternetService    0.029459\n"
     ]
    }
   ],
   "source": [
    "import pandas as pd\n",
    "import numpy as np\n",
    "feature_importance = rf_model.feature_importances_\n",
    "importance_df = pd.DataFrame({'Feature': X.columns, 'Importance': feature_importance})\n",
    "importance_df = importance_df.sort_values(by='Importance', ascending=False)\n",
    "print(importance_df)"
   ]
  },
  {
   "cell_type": "code",
   "execution_count": 3,
   "id": "1a46b529-9f1c-473f-ac3b-14648080cc77",
   "metadata": {},
   "outputs": [
    {
     "name": "stdout",
     "output_type": "stream",
     "text": [
      "   CustomerID  Age  Annual_Income  Spending_Score\n",
      "0           1   19             15              39\n",
      "1           2   21             15              81\n",
      "2           3   20             16               6\n",
      "3           4   23             16              77\n",
      "4           5   31             17              40\n"
     ]
    }
   ],
   "source": [
    "import pandas as pd\n",
    "dfX= pd.read_csv('customer_segmentation_cleaned.csv')\n",
    "print(dfX.head())"
   ]
  },
  {
   "cell_type": "code",
   "execution_count": 4,
   "id": "97691614-16e8-442c-8bb3-e65b6ac9a50f",
   "metadata": {},
   "outputs": [],
   "source": [
    "dfX = dfX.drop('CustomerID', axis = 1)"
   ]
  },
  {
   "cell_type": "code",
   "execution_count": 9,
   "id": "d0c2113d-0cf3-408e-91ef-b39803e5eb1d",
   "metadata": {},
   "outputs": [
    {
     "data": {
      "image/png": "[encoded data removed]",
      "text/plain": [
       "<Figure size 800x600 with 1 Axes>"
      ]
     },
     "metadata": {},
     "output_type": "display_data"
    }
   ],
   "source": [
    "import matplotlib.pyplot as plt\n",
    "plt.figure(figsize=(8,6))\n",
    "plt.scatter(dfX['Annual_Income'], dfX['Spending_Score'], c=dfX['Clusters'], cmap='rainbow', edgecolor='k')\n",
    "plt.xlabel('Annual Income')\n",
    "plt.ylabel('Spending Score')\n",
    "plt.title('Customer Segments')\n",
    "plt.grid(True)\n",
    "plt.show()"
   ]
  },
  {
   "cell_type": "code",
   "execution_count": 10,
   "id": "cae9645a-e2af-4d3a-9206-9e48070b5be4",
   "metadata": {},
   "outputs": [],
   "source": [
    "from sklearn.cluster import KMeans\n",
    "kmeans = KMeans(n_clusters=4)\n",
    "kmeans.fit(dfX)\n",
    "dfX['Clusters'] = kmeans.labels_"
   ]
  },
  {
   "cell_type": "code",
   "execution_count": 11,
   "id": "18246792-266d-4692-ad5f-cf4b0401c4e7",
   "metadata": {},
   "outputs": [
    {
     "data": {
      "image/png": "[encoded data removed]",
      "text/plain": [
       "<Figure size 640x480 with 1 Axes>"
      ]
     },
     "metadata": {},
     "output_type": "display_data"
    }
   ],
   "source": [
    "plt.scatter(dfX['Annual_Income'], dfX['Spending_Score'], c = dfX['Clusters'], cmap = 'rainbow')\n",
    "plt.xlabel('Annual_Income')\n",
    "plt.ylabel('Spending_Score')\n",
    "plt.title('Customer Segments')\n",
    "plt.show()"
   ]
  },
  {
   "cell_type": "code",
   "execution_count": 15,
   "id": "eeb59222-07b1-4100-b83c-e65b3650a311",
   "metadata": {},
   "outputs": [
    {
     "name": "stdout",
     "output_type": "stream",
     "text": [
      "   Age  Attrition  Department  EnvironmentSatisfaction  JobRole  \\\n",
      "0   41          1           0                        2        0   \n",
      "1   49          0           1                        3        1   \n",
      "2   37          1           1                        4        2   \n",
      "3   33          0           1                        4        1   \n",
      "4   27          0           1                        1        2   \n",
      "\n",
      "   JobSatisfaction  MonthlyIncome  OverTime  WorkLifeBalance  YearsAtCompany  \n",
      "0                4           5993         1                1               6  \n",
      "1                2           5130         0                3              10  \n",
      "2                3           2090         1                3               0  \n",
      "3                3           2909         1                3               8  \n",
      "4                2           3468         0                3               2  \n"
     ]
    }
   ],
   "source": [
    "import pandas as pd\n",
    "dfY = pd.read_csv('employee_attrition_cleaned.csv')\n",
    "print(dfY.head())"
   ]
  },
  {
   "cell_type": "code",
   "execution_count": 16,
   "id": "c9dea751-eb5d-42f3-850a-65ab18f50cc1",
   "metadata": {},
   "outputs": [],
   "source": [
    "X = dfY.drop('Attrition', axis = 1)\n",
    "y = dfY['Attrition']"
   ]
  },
  {
   "cell_type": "code",
   "execution_count": 17,
   "id": "7ef33bf0-b7d5-4f46-af2c-694787ec22ee",
   "metadata": {},
   "outputs": [
    {
     "name": "stdout",
     "output_type": "stream",
     "text": [
      "<class 'pandas.core.frame.DataFrame'>\n",
      "RangeIndex: 1470 entries, 0 to 1469\n",
      "Data columns (total 10 columns):\n",
      " #   Column                   Non-Null Count  Dtype\n",
      "---  ------                   --------------  -----\n",
      " 0   Age                      1470 non-null   int64\n",
      " 1   Attrition                1470 non-null   int64\n",
      " 2   Department               1470 non-null   int64\n",
      " 3   EnvironmentSatisfaction  1470 non-null   int64\n",
      " 4   JobRole                  1470 non-null   int64\n",
      " 5   JobSatisfaction          1470 non-null   int64\n",
      " 6   MonthlyIncome            1470 non-null   int64\n",
      " 7   OverTime                 1470 non-null   int64\n",
      " 8   WorkLifeBalance          1470 non-null   int64\n",
      " 9   YearsAtCompany           1470 non-null   int64\n",
      "dtypes: int64(10)\n",
      "memory usage: 115.0 KB\n"
     ]
    },
    {
     "data": {
      "text/plain": [
       "Age                        0\n",
       "Attrition                  0\n",
       "Department                 0\n",
       "EnvironmentSatisfaction    0\n",
       "JobRole                    0\n",
       "JobSatisfaction            0\n",
       "MonthlyIncome              0\n",
       "OverTime                   0\n",
       "WorkLifeBalance            0\n",
       "YearsAtCompany             0\n",
       "dtype: int64"
      ]
     },
     "execution_count": 17,
     "metadata": {},
     "output_type": "execute_result"
    }
   ],
   "source": [
    "dfY.info()\n",
    "dfY.isnull().sum()"
   ]
  },
  {
   "cell_type": "code",
   "execution_count": 20,
   "id": "f064803b-b961-4353-ab6a-0ce07283f7f5",
   "metadata": {},
   "outputs": [],
   "source": [
    "from sklearn.model_selection import train_test_split\n",
    "X_train, X_test, y_train, y_test = train_test_split(X, y, test_size=0.2, random_state=42)"
   ]
  },
  {
   "cell_type": "code",
   "execution_count": 21,
   "id": "bf4cc9ec-9657-4aef-a0eb-f1e37a57a4e0",
   "metadata": {},
   "outputs": [
    {
     "name": "stdout",
     "output_type": "stream",
     "text": [
      "Accuracy: 0.7891156462585034\n",
      "              precision    recall  f1-score   support\n",
      "\n",
      "           0       0.90      0.85      0.88       255\n",
      "           1       0.27      0.36      0.31        39\n",
      "\n",
      "    accuracy                           0.79       294\n",
      "   macro avg       0.59      0.61      0.59       294\n",
      "weighted avg       0.81      0.79      0.80       294\n",
      "\n"
     ]
    }
   ],
   "source": [
    "from sklearn.tree import DecisionTreeClassifier\n",
    "from sklearn.metrics import accuracy_score, classification_report\n",
    "\n",
    "model = DecisionTreeClassifier()\n",
    "model.fit(X_train, y_train)\n",
    "y_pred = model.predict(X_test)\n",
    "\n",
    "print(\"Accuracy:\", accuracy_score(y_test, y_pred))\n",
    "print(classification_report(y_test, y_pred))"
   ]
  },
  {
   "cell_type": "code",
   "execution_count": 23,
   "id": "f3d94923-7965-4bc9-8789-4275e0bf11f9",
   "metadata": {},
   "outputs": [
    {
     "name": "stdout",
     "output_type": "stream",
     "text": [
      "Accuracy: 0.8605442176870748\n"
     ]
    }
   ],
   "source": [
    "from sklearn.ensemble import RandomForestClassifier\n",
    "\n",
    "rf = RandomForestClassifier()\n",
    "rf.fit(X_train, y_train)\n",
    "y_pred_rf = rf.predict(X_test)\n",
    "\n",
    "print(\"Accuracy:\", accuracy_score(y_test, y_pred_rf))"
   ]
  },
  {
   "cell_type": "code",
   "execution_count": 25,
   "id": "fe342282-c0f4-468a-bb4e-c23d797e65ac",
   "metadata": {},
   "outputs": [
    {
     "name": "stdout",
     "output_type": "stream",
     "text": [
      "Accuracy: 0.8605442176870748\n",
      "              precision    recall  f1-score   support\n",
      "\n",
      "           0       0.88      0.96      0.92       255\n",
      "           1       0.44      0.18      0.25        39\n",
      "\n",
      "    accuracy                           0.86       294\n",
      "   macro avg       0.66      0.57      0.59       294\n",
      "weighted avg       0.83      0.86      0.83       294\n",
      "\n"
     ]
    },
    {
     "data": {
      "image/png": "[encoded data removed]",
      "text/plain": [
       "<Figure size 640x480 with 2 Axes>"
      ]
     },
     "metadata": {},
     "output_type": "display_data"
    }
   ],
   "source": [
    "import seaborn as sns\n",
    "import matplotlib.pyplot as plt\n",
    "from sklearn.metrics import classification_report, confusion_matrix, accuracy_score\n",
    "y_pred = rf.predict(X_test)\n",
    "print(\"Accuracy:\", accuracy_score(y_test, y_pred))\n",
    "print(classification_report(y_test, y_pred))\n",
    "cm = confusion_matrix(y_test, y_pred)\n",
    "sns.heatmap(cm, annot=True, cmap='Greens')\n",
    "plt.title('Confusion Matrix - Attrition')\n",
    "plt.xlabel('Predicted')\n",
    "plt.ylabel('Actual')\n",
    "plt.show()"
   ]
  },
  {
   "cell_type": "code",
   "execution_count": 27,
   "id": "a7ce0c52-3022-47fa-b37d-376e44f3f066",
   "metadata": {},
   "outputs": [
    {
     "data": {
      "image/png": "[encoded data removed]",
      "text/plain": [
       "<Figure size 640x480 with 1 Axes>"
      ]
     },
     "metadata": {},
     "output_type": "display_data"
    }
   ],
   "source": [
    "features = X.columns\n",
    "importances = rf.feature_importances_\n",
    "\n",
    "pd.Series(importances, index=features).sort_values(ascending=False).plot(kind='bar')\n",
    "plt.title('Feature Importance - Employee Attrition')\n",
    "plt.ylabel('Importance')\n",
    "plt.show()"
   ]
  },
  {
   "cell_type": "code",
   "execution_count": 79,
   "id": "7a41ef0e-2b7d-452c-a450-37adbc244889",
   "metadata": {},
   "outputs": [
    {
     "data": {
      "image/png": "[encoded data removed]",
      "text/plain": [
       "<Figure size 640x480 with 1 Axes>"
      ]
     },
     "metadata": {},
     "output_type": "display_data"
    }
   ],
   "source": [
    "import matplotlib.pyplot as plt\n",
    "import seaborn as sns\n",
    "\n",
    "importance = pd.Series(rf.feature_importances_, index=X.columns)\n",
    "importance.nlargest(10).plot(kind='barh')\n",
    "plt.title(\"Top 10 Important Features for Employee Attrition\")\n",
    "plt.show()"
   ]
  },
  {
   "cell_type": "code",
   "execution_count": 4,
   "id": "8786ad14-80f3-45c4-99ea-7d8f4a714a01",
   "metadata": {},
   "outputs": [
    {
     "name": "stdout",
     "output_type": "stream",
     "text": [
      "         Date  Store ID  Product ID  Inventory Level  Units Sold  Price  \\\n",
      "0  2022-01-01         0           0              231         127  33.50   \n",
      "1  2022-01-01         0           1              204         150  63.01   \n",
      "2  2022-01-01         0           2              102          65  27.99   \n",
      "3  2022-01-01         0           3              469          61  32.72   \n",
      "4  2022-01-01         0           4              166          14  73.64   \n",
      "\n",
      "   Discount  Holiday/Promotion    sales  stock_available  \n",
      "0        20                  0  4254.50                1  \n",
      "1        20                  0  9451.50                1  \n",
      "2        10                  1  1819.35                1  \n",
      "3        10                  1  1995.92                1  \n",
      "4         0                  0  1030.96                1  \n"
     ]
    }
   ],
   "source": [
    "import pandas as pd\n",
    "dfZ = pd.read_csv('sales_forecasting_cleaned.csv')\n",
    "print(dfZ.head())"
   ]
  },
  {
   "cell_type": "code",
   "execution_count": 5,
   "id": "32d24606-f3e0-48e1-919d-566849661f5c",
   "metadata": {},
   "outputs": [],
   "source": [
    "dfZ['Date'] = pd.to_datetime(dfZ['Date'], format='%Y-%m-%d')"
   ]
  },
  {
   "cell_type": "code",
   "execution_count": 6,
   "id": "b184750a-5ea8-4c05-9b17-62b1f2fe4ba2",
   "metadata": {},
   "outputs": [],
   "source": [
    "selected_features = ['Units Sold', 'Inventory Level', 'Price']\n",
    "X = dfZ[selected_features]\n",
    "y=dfZ['sales']\n"
   ]
  },
  {
   "cell_type": "code",
   "execution_count": 7,
   "id": "e7eeb1eb-ff7f-4362-b162-f8a4a874219f",
   "metadata": {},
   "outputs": [
    {
     "name": "stdout",
     "output_type": "stream",
     "text": [
      "X shape: (73100, 3)\n",
      "y shape: (73100,)\n"
     ]
    }
   ],
   "source": [
    "print(\"X shape:\", X.shape)\n",
    "print(\"y shape:\", y.shape)"
   ]
  },
  {
   "cell_type": "code",
   "execution_count": 8,
   "id": "f5818047-2abe-4b11-b893-cc141c03e39e",
   "metadata": {},
   "outputs": [],
   "source": [
    "from sklearn.model_selection import train_test_split\n",
    "X_train, X_test, y_train, y_test = train_test_split(X, y, test_size=0.2, random_state=42)"
   ]
  },
  {
   "cell_type": "code",
   "execution_count": 9,
   "id": "1ae7a47d-53f5-4bdc-b372-2a28cb050f0f",
   "metadata": {},
   "outputs": [
    {
     "name": "stdout",
     "output_type": "stream",
     "text": [
      "(58480, 3)\n",
      "(14620, 3)\n",
      "(58480,)\n",
      "(14620,)\n"
     ]
    }
   ],
   "source": [
    "print(X_train.shape)\n",
    "print(X_test.shape)\n",
    "print(y_train.shape)\n",
    "print(y_test.shape)"
   ]
  },
  {
   "cell_type": "code",
   "execution_count": 10,
   "id": "c9c577cd-89d7-4f4b-a610-ceaa7bb3002f",
   "metadata": {},
   "outputs": [
    {
     "name": "stdout",
     "output_type": "stream",
     "text": [
      "Linear Regression:\n",
      "R2 Score: 0.86058429545567\n",
      "MSE: 8066602.103430459\n",
      "(14620,)\n"
     ]
    }
   ],
   "source": [
    "from sklearn.linear_model import LinearRegression\n",
    "from sklearn.metrics import r2_score, mean_squared_error\n",
    "lr = LinearRegression()\n",
    "lr.fit(X_train, y_train)\n",
    "y_pred_lr = lr.predict(X_test)\n",
    "print(\"Linear Regression:\")\n",
    "print(\"R2 Score:\", r2_score(y_test, y_pred_lr))\n",
    "print(\"MSE:\", mean_squared_error(y_test, y_pred_lr))\n",
    "print(y_pred_lr.shape)"
   ]
  },
  {
   "cell_type": "code",
   "execution_count": 15,
   "id": "85df2f66-8f62-448b-9fb3-f16af8532f65",
   "metadata": {},
   "outputs": [],
   "source": [
    "from sklearn.model_selection import train_test_split\n",
    "X_train, X_test, y_train, y_test = train_test_split(X, y, test_size=0.2, random_state=42)\n",
    "y = y.astype(int)\n"
   ]
  },
  {
   "cell_type": "code",
   "execution_count": 16,
   "id": "565ac1e7-1621-4183-870c-96b967f3784f",
   "metadata": {},
   "outputs": [
    {
     "name": "stdout",
     "output_type": "stream",
     "text": [
      "Random Forest:\n",
      "R2 Score: 0.9999575739754818\n",
      "MSE 2454.7717526880992\n"
     ]
    }
   ],
   "source": [
    "from sklearn.ensemble import RandomForestRegressor\n",
    "rf = RandomForestRegressor()\n",
    "rf.fit(X_train, y_train)\n",
    "y_pred_rf = rf.predict(X_test)\n",
    "print(\"Random Forest:\")\n",
    "print(\"R2 Score:\", r2_score(y_test, y_pred_rf))\n",
    "print(\"MSE\", mean_squared_error(y_test, y_pred_rf))\n"
   ]
  },
  {
   "cell_type": "code",
   "execution_count": 17,
   "id": "5c7878c9-eb35-4b36-9bd8-4b706838b94d",
   "metadata": {},
   "outputs": [],
   "source": [
    "from sklearn.model_selection import train_test_split\n",
    "X_train, X_test, y_train, y_test = train_test_split(X, y, test_size=0.2, random_state=42)"
   ]
  },
  {
   "cell_type": "code",
   "execution_count": 18,
   "id": "abc16440-a906-4fb8-8cb4-67909a421971",
   "metadata": {},
   "outputs": [
    {
     "name": "stdout",
     "output_type": "stream",
     "text": [
      "XGBoost:\n",
      "R2 Score: 0.9997336864471436\n",
      "MSE: 15410.459329587764\n"
     ]
    }
   ],
   "source": [
    "from xgboost import XGBRegressor\n",
    "xgb = XGBRegressor()\n",
    "xgb.fit(X_train, y_train)\n",
    "y_pred_xgb = xgb.predict(X_test)\n",
    "print(\"XGBoost:\")\n",
    "print(\"R2 Score:\", r2_score(y_test, y_pred_xgb))\n",
    "print(\"MSE:\", mean_squared_error(y_test, y_pred_xgb))"
   ]
  },
  {
   "cell_type": "code",
   "execution_count": 67,
   "id": "c2ddb869-0f8d-485e-8c2d-2f916379a723",
   "metadata": {},
   "outputs": [
    {
     "name": "stdout",
     "output_type": "stream",
     "text": [
      "y_test shape: (14620,)\n",
      "y_pred shape: (294,)\n"
     ]
    }
   ],
   "source": [
    "print(\"y_test shape:\", y_test.shape)\n",
    "print(\"y_pred shape:\", y_pred.shape)"
   ]
  },
  {
   "cell_type": "code",
   "execution_count": 79,
   "id": "c178c92d-1910-4043-a62f-2ea18402adbb",
   "metadata": {},
   "outputs": [
    {
     "name": "stderr",
     "output_type": "stream",
     "text": [
      "C:\\Users\\Hp\\AppData\\Local\\Temp\\ipykernel_24224\\1294147610.py:4: UserWarning: color is redundantly defined by the 'color' keyword argument and the fmt string \"r--\" (-> color='r'). The keyword argument will take precedence.\n",
      "  plt.plot([y_test.min(), y_test.max()], [y_test.min(), y_test.max()], 'r--', label='Ideal Prediction Line', color='red')\n"
     ]
    },
    {
     "data": {
      "image/png": "[encoded data removed]",
      "text/plain": [
       "<Figure size 800x600 with 1 Axes>"
      ]
     },
     "metadata": {},
     "output_type": "display_data"
    }
   ],
   "source": [
    "import matplotlib.pyplot as plt\n",
    "plt.figure(figsize=(8, 6))\n",
    "plt.scatter(y_test, y_pred_rf, color='blue', label='Predicted vs Actual')\n",
    "plt.plot([y_test.min(), y_test.max()], [y_test.min(), y_test.max()], 'r--', label='Ideal Prediction Line', color='red')\n",
    "plt.xlabel('Actual Sales')\n",
    "plt.ylabel('Predicted Sales')\n",
    "plt.title('Actual vs Predicted Sales')\n",
    "plt.legend()\n",
    "plt.show()"
   ]
  },
  {
   "cell_type": "code",
   "execution_count": 66,
   "id": "d80dee08-7cd3-475a-8447-0e35972ce3a4",
   "metadata": {},
   "outputs": [
    {
     "name": "stdout",
     "output_type": "stream",
     "text": [
      "y_test shape: (14620,)\n",
      "y_pred shape: (294,)\n"
     ]
    }
   ],
   "source": [
    "print(\"y_test shape:\", y_test.shape)\n",
    "print(\"y_pred shape:\", y_pred.shape)"
   ]
  },
  {
   "cell_type": "code",
   "execution_count": 83,
   "id": "61819e2b-e9e4-46b8-a13d-aef3496ee233",
   "metadata": {},
   "outputs": [
    {
     "name": "stdout",
     "output_type": "stream",
     "text": [
      "           Feature  Importance\n",
      "0       Units Sold    0.659425\n",
      "2            Price    0.340538\n",
      "1  Inventory Level    0.000037\n"
     ]
    },
    {
     "data": {
      "image/png": "[encoded data removed]",
      "text/plain": [
       "<Figure size 1000x600 with 1 Axes>"
      ]
     },
     "metadata": {},
     "output_type": "display_data"
    }
   ],
   "source": [
    "import pandas as pd\n",
    "import matplotlib.pyplot as plt\n",
    "import seaborn as sns\n",
    "importances = rf.feature_importances_\n",
    "importance_df = pd.DataFrame({'Feature':X.columns, 'Importance': feature_importance})\n",
    "importance_df = importance_df.sort_values(by='Importance', ascending=False)\n",
    "print(importance_df)\n",
    "plt.figure(figsize=(10,6))\n",
    "plt.barh(importance_df['Feature'], importance_df['Importance'], color='skyblue')\n",
    "plt.xlabel('Importance')\n",
    "plt.title('Feature Importance for Sales Forecasting')\n",
    "plt.gca().invert_yaxis()\n",
    "plt.show()"
   ]
  },
  {
   "cell_type": "code",
   "execution_count": 107,
   "id": "7413f49c-c265-4622-be5e-e5ac55f31d52",
   "metadata": {},
   "outputs": [],
   "source": [
    "df_churn.to_excel('customer_churn_cleaned.xlsx', index=False)"
   ]
  },
  {
   "cell_type": "code",
   "execution_count": 108,
   "id": "7a9a7bf3-728f-4013-ad20-2a7da9d00d1f",
   "metadata": {},
   "outputs": [],
   "source": [
    "df_segmentation.to_excel('customer_segmentation_cleaned.xlsx', index=False)"
   ]
  },
  {
   "cell_type": "code",
   "execution_count": 109,
   "id": "8ee16f2f-47a6-4abe-b313-f7219a0447d5",
   "metadata": {},
   "outputs": [],
   "source": [
    "df_attrition.to_excel('employee_attrition_cleaned.xlsx', index=False) "
   ]
  },
  {
   "cell_type": "code",
   "execution_count": 110,
   "id": "8aff41ae-dba3-478f-8eb0-41ed11dd44aa",
   "metadata": {},
   "outputs": [],
   "source": [
    "df_sales.to_excel('sales_forecasting_cleaned.xlsx', index=False)"
   ]
  },
  {
   "cell_type": "code",
   "execution_count": null,
   "id": "d39c7f5e-70e5-4221-904b-9d6411d6b01c",
   "metadata": {},
   "outputs": [],
   "source": []
  },
  {
   "cell_type": "code",
   "execution_count": null,
   "id": "0c03b003-f579-407b-9260-ff8bbb54e6c1",
   "metadata": {},
   "outputs": [],
   "source": []
  }
 ],
 "metadata": {
  "kernelspec": {
   "display_name": "Python 3 (ipykernel)",
   "language": "python",
   "name": "python3"
  },
  "language_info": {
   "codemirror_mode": {
    "name": "ipython",
    "version": 3
   },
   "file_extension": ".py",
   "mimetype": "text/x-python",
   "name": "python",
   "nbconvert_exporter": "python",
   "pygments_lexer": "ipython3",
   "version": "3.12.4"
  }
 },
 "nbformat": 4,
 "nbformat_minor": 5
}
